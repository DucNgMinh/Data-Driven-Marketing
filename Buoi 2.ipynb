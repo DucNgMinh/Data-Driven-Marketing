{
 "cells": [
  {
   "cell_type": "code",
   "execution_count": 69,
   "metadata": {
    "collapsed": true
   },
   "outputs": [],
   "source": [
    "import numpy as np\n",
    "import pandas as pd\n",
    "import matplotlib.pyplot as plt\n",
    "import seaborn as sns\n",
    "import re"
   ]
  },
  {
   "cell_type": "code",
   "execution_count": 70,
   "outputs": [
    {
     "name": "stderr",
     "output_type": "stream",
     "text": [
      "C:\\Users\\Duc\\AppData\\Local\\Temp\\ipykernel_3016\\3936726810.py:1: DtypeWarning: Columns (16) have mixed types. Specify dtype option on import or set low_memory=False.\n",
      "  df = pd.read_csv('sample_mkt_data_final.csv').drop(['Unnamed: 0.1','Unnamed: 0'], axis =1)\n"
     ]
    },
    {
     "data": {
      "text/plain": "         browser  visitorId  visitNumber     visitId  visitStartTime  \\\n0         Safari        NaN            1  1499949144      1499949144   \n1         Chrome        NaN            1  1499948762      1499948762   \n2         Chrome        NaN            7  1499940578      1499940578   \n3         Chrome        NaN            1  1500000096      1500000096   \n4         Chrome        NaN            1  1499969958      1499969958   \n...          ...        ...          ...         ...             ...   \n71807  YaBrowser        NaN            1  1499360023      1499360023   \n71808     Safari        NaN            1  1499409243      1499409243   \n71809     Chrome        NaN            2  1499357935      1499357935   \n71810     Chrome        NaN            1  1499340827      1499340827   \n71811     Chrome        NaN            1  1499402632      1499402632   \n\n           date  visits  hits  pageviews  timeOnSite  bounces  transactions  \\\n0      20170713       1     1        1.0         NaN      1.0           NaN   \n1      20170713       1     1        1.0         NaN      1.0           NaN   \n2      20170713       1     1        1.0         NaN      1.0           NaN   \n3      20170713       1     1        1.0         NaN      1.0           NaN   \n4      20170713       1     1        1.0         NaN      1.0           NaN   \n...         ...     ...   ...        ...         ...      ...           ...   \n71807  20170706       1    18       12.0       187.0      NaN           NaN   \n71808  20170706       1    22       15.0       382.0      NaN           NaN   \n71809  20170706       1    23       22.0       916.0      NaN           NaN   \n71810  20170706       1    26       24.0      1598.0      NaN           NaN   \n71811  20170706       1    33       29.0      1003.0      NaN           NaN   \n\n       transactionRevenue         source        fullVisitorId  \n0                     NaN         google  6790377449422493910  \n1                     NaN         google  1431348163667504299  \n2                     NaN         google  5628749752915535966  \n3                     NaN       (direct)  7721996906492012430  \n4                     NaN         google  2699850580029059099  \n...                   ...            ...                  ...  \n71807                 NaN    youtube.com  8636238363843235715  \n71808                 NaN  m.youtube.com  2163624322857171652  \n71809                 NaN    youtube.com  7690948523840471251  \n71810                 NaN    youtube.com  3556380371648369739  \n71811                 NaN    youtube.com  4510124417472283674  \n\n[71812 rows x 15 columns]",
      "text/html": "<div>\n<style scoped>\n    .dataframe tbody tr th:only-of-type {\n        vertical-align: middle;\n    }\n\n    .dataframe tbody tr th {\n        vertical-align: top;\n    }\n\n    .dataframe thead th {\n        text-align: right;\n    }\n</style>\n<table border=\"1\" class=\"dataframe\">\n  <thead>\n    <tr style=\"text-align: right;\">\n      <th></th>\n      <th>browser</th>\n      <th>visitorId</th>\n      <th>visitNumber</th>\n      <th>visitId</th>\n      <th>visitStartTime</th>\n      <th>date</th>\n      <th>visits</th>\n      <th>hits</th>\n      <th>pageviews</th>\n      <th>timeOnSite</th>\n      <th>bounces</th>\n      <th>transactions</th>\n      <th>transactionRevenue</th>\n      <th>source</th>\n      <th>fullVisitorId</th>\n    </tr>\n  </thead>\n  <tbody>\n    <tr>\n      <th>0</th>\n      <td>Safari</td>\n      <td>NaN</td>\n      <td>1</td>\n      <td>1499949144</td>\n      <td>1499949144</td>\n      <td>20170713</td>\n      <td>1</td>\n      <td>1</td>\n      <td>1.0</td>\n      <td>NaN</td>\n      <td>1.0</td>\n      <td>NaN</td>\n      <td>NaN</td>\n      <td>google</td>\n      <td>6790377449422493910</td>\n    </tr>\n    <tr>\n      <th>1</th>\n      <td>Chrome</td>\n      <td>NaN</td>\n      <td>1</td>\n      <td>1499948762</td>\n      <td>1499948762</td>\n      <td>20170713</td>\n      <td>1</td>\n      <td>1</td>\n      <td>1.0</td>\n      <td>NaN</td>\n      <td>1.0</td>\n      <td>NaN</td>\n      <td>NaN</td>\n      <td>google</td>\n      <td>1431348163667504299</td>\n    </tr>\n    <tr>\n      <th>2</th>\n      <td>Chrome</td>\n      <td>NaN</td>\n      <td>7</td>\n      <td>1499940578</td>\n      <td>1499940578</td>\n      <td>20170713</td>\n      <td>1</td>\n      <td>1</td>\n      <td>1.0</td>\n      <td>NaN</td>\n      <td>1.0</td>\n      <td>NaN</td>\n      <td>NaN</td>\n      <td>google</td>\n      <td>5628749752915535966</td>\n    </tr>\n    <tr>\n      <th>3</th>\n      <td>Chrome</td>\n      <td>NaN</td>\n      <td>1</td>\n      <td>1500000096</td>\n      <td>1500000096</td>\n      <td>20170713</td>\n      <td>1</td>\n      <td>1</td>\n      <td>1.0</td>\n      <td>NaN</td>\n      <td>1.0</td>\n      <td>NaN</td>\n      <td>NaN</td>\n      <td>(direct)</td>\n      <td>7721996906492012430</td>\n    </tr>\n    <tr>\n      <th>4</th>\n      <td>Chrome</td>\n      <td>NaN</td>\n      <td>1</td>\n      <td>1499969958</td>\n      <td>1499969958</td>\n      <td>20170713</td>\n      <td>1</td>\n      <td>1</td>\n      <td>1.0</td>\n      <td>NaN</td>\n      <td>1.0</td>\n      <td>NaN</td>\n      <td>NaN</td>\n      <td>google</td>\n      <td>2699850580029059099</td>\n    </tr>\n    <tr>\n      <th>...</th>\n      <td>...</td>\n      <td>...</td>\n      <td>...</td>\n      <td>...</td>\n      <td>...</td>\n      <td>...</td>\n      <td>...</td>\n      <td>...</td>\n      <td>...</td>\n      <td>...</td>\n      <td>...</td>\n      <td>...</td>\n      <td>...</td>\n      <td>...</td>\n      <td>...</td>\n    </tr>\n    <tr>\n      <th>71807</th>\n      <td>YaBrowser</td>\n      <td>NaN</td>\n      <td>1</td>\n      <td>1499360023</td>\n      <td>1499360023</td>\n      <td>20170706</td>\n      <td>1</td>\n      <td>18</td>\n      <td>12.0</td>\n      <td>187.0</td>\n      <td>NaN</td>\n      <td>NaN</td>\n      <td>NaN</td>\n      <td>youtube.com</td>\n      <td>8636238363843235715</td>\n    </tr>\n    <tr>\n      <th>71808</th>\n      <td>Safari</td>\n      <td>NaN</td>\n      <td>1</td>\n      <td>1499409243</td>\n      <td>1499409243</td>\n      <td>20170706</td>\n      <td>1</td>\n      <td>22</td>\n      <td>15.0</td>\n      <td>382.0</td>\n      <td>NaN</td>\n      <td>NaN</td>\n      <td>NaN</td>\n      <td>m.youtube.com</td>\n      <td>2163624322857171652</td>\n    </tr>\n    <tr>\n      <th>71809</th>\n      <td>Chrome</td>\n      <td>NaN</td>\n      <td>2</td>\n      <td>1499357935</td>\n      <td>1499357935</td>\n      <td>20170706</td>\n      <td>1</td>\n      <td>23</td>\n      <td>22.0</td>\n      <td>916.0</td>\n      <td>NaN</td>\n      <td>NaN</td>\n      <td>NaN</td>\n      <td>youtube.com</td>\n      <td>7690948523840471251</td>\n    </tr>\n    <tr>\n      <th>71810</th>\n      <td>Chrome</td>\n      <td>NaN</td>\n      <td>1</td>\n      <td>1499340827</td>\n      <td>1499340827</td>\n      <td>20170706</td>\n      <td>1</td>\n      <td>26</td>\n      <td>24.0</td>\n      <td>1598.0</td>\n      <td>NaN</td>\n      <td>NaN</td>\n      <td>NaN</td>\n      <td>youtube.com</td>\n      <td>3556380371648369739</td>\n    </tr>\n    <tr>\n      <th>71811</th>\n      <td>Chrome</td>\n      <td>NaN</td>\n      <td>1</td>\n      <td>1499402632</td>\n      <td>1499402632</td>\n      <td>20170706</td>\n      <td>1</td>\n      <td>33</td>\n      <td>29.0</td>\n      <td>1003.0</td>\n      <td>NaN</td>\n      <td>NaN</td>\n      <td>NaN</td>\n      <td>youtube.com</td>\n      <td>4510124417472283674</td>\n    </tr>\n  </tbody>\n</table>\n<p>71812 rows × 15 columns</p>\n</div>"
     },
     "execution_count": 70,
     "metadata": {},
     "output_type": "execute_result"
    }
   ],
   "source": [
    "df = pd.read_csv('sample_mkt_data_final.csv').drop(['Unnamed: 0.1','Unnamed: 0'], axis =1)\n",
    "df"
   ],
   "metadata": {
    "collapsed": false
   }
  },
  {
   "cell_type": "code",
   "execution_count": 71,
   "outputs": [
    {
     "data": {
      "text/plain": "       browser  visitorId  visitNumber     visitId  visitStartTime      date  \\\n38616  Firefox        NaN            1  1500856602      1500856602  20170723   \n38624  Firefox        NaN            1  1500856602      1500856602  20170723   \n38660  Firefox        NaN            1  1500856602      1500856602  20170723   \n38750  Firefox        NaN            1  1500856602      1500856602  20170723   \n38855   Chrome        NaN            1  1500856602      1500856602  20170723   \n\n       visits  hits  pageviews  timeOnSite  bounces  transactions  \\\n38616       1     1        1.0         NaN      1.0           NaN   \n38624       1     1        1.0         NaN      1.0           NaN   \n38660       1     1        1.0         NaN      1.0           NaN   \n38750       1     1        1.0         NaN      1.0           NaN   \n38855       1     1        1.0         NaN      1.0           NaN   \n\n       transactionRevenue    source        fullVisitorId  \n38616                 NaN  (direct)  1342436529123842864  \n38624                 NaN  (direct)  5472708288871562589  \n38660                 NaN  (direct)  1899951598547350466  \n38750                 NaN  (direct)  7446729153217236188  \n38855                 NaN  (direct)  6730972834407614673  ",
      "text/html": "<div>\n<style scoped>\n    .dataframe tbody tr th:only-of-type {\n        vertical-align: middle;\n    }\n\n    .dataframe tbody tr th {\n        vertical-align: top;\n    }\n\n    .dataframe thead th {\n        text-align: right;\n    }\n</style>\n<table border=\"1\" class=\"dataframe\">\n  <thead>\n    <tr style=\"text-align: right;\">\n      <th></th>\n      <th>browser</th>\n      <th>visitorId</th>\n      <th>visitNumber</th>\n      <th>visitId</th>\n      <th>visitStartTime</th>\n      <th>date</th>\n      <th>visits</th>\n      <th>hits</th>\n      <th>pageviews</th>\n      <th>timeOnSite</th>\n      <th>bounces</th>\n      <th>transactions</th>\n      <th>transactionRevenue</th>\n      <th>source</th>\n      <th>fullVisitorId</th>\n    </tr>\n  </thead>\n  <tbody>\n    <tr>\n      <th>38616</th>\n      <td>Firefox</td>\n      <td>NaN</td>\n      <td>1</td>\n      <td>1500856602</td>\n      <td>1500856602</td>\n      <td>20170723</td>\n      <td>1</td>\n      <td>1</td>\n      <td>1.0</td>\n      <td>NaN</td>\n      <td>1.0</td>\n      <td>NaN</td>\n      <td>NaN</td>\n      <td>(direct)</td>\n      <td>1342436529123842864</td>\n    </tr>\n    <tr>\n      <th>38624</th>\n      <td>Firefox</td>\n      <td>NaN</td>\n      <td>1</td>\n      <td>1500856602</td>\n      <td>1500856602</td>\n      <td>20170723</td>\n      <td>1</td>\n      <td>1</td>\n      <td>1.0</td>\n      <td>NaN</td>\n      <td>1.0</td>\n      <td>NaN</td>\n      <td>NaN</td>\n      <td>(direct)</td>\n      <td>5472708288871562589</td>\n    </tr>\n    <tr>\n      <th>38660</th>\n      <td>Firefox</td>\n      <td>NaN</td>\n      <td>1</td>\n      <td>1500856602</td>\n      <td>1500856602</td>\n      <td>20170723</td>\n      <td>1</td>\n      <td>1</td>\n      <td>1.0</td>\n      <td>NaN</td>\n      <td>1.0</td>\n      <td>NaN</td>\n      <td>NaN</td>\n      <td>(direct)</td>\n      <td>1899951598547350466</td>\n    </tr>\n    <tr>\n      <th>38750</th>\n      <td>Firefox</td>\n      <td>NaN</td>\n      <td>1</td>\n      <td>1500856602</td>\n      <td>1500856602</td>\n      <td>20170723</td>\n      <td>1</td>\n      <td>1</td>\n      <td>1.0</td>\n      <td>NaN</td>\n      <td>1.0</td>\n      <td>NaN</td>\n      <td>NaN</td>\n      <td>(direct)</td>\n      <td>7446729153217236188</td>\n    </tr>\n    <tr>\n      <th>38855</th>\n      <td>Chrome</td>\n      <td>NaN</td>\n      <td>1</td>\n      <td>1500856602</td>\n      <td>1500856602</td>\n      <td>20170723</td>\n      <td>1</td>\n      <td>1</td>\n      <td>1.0</td>\n      <td>NaN</td>\n      <td>1.0</td>\n      <td>NaN</td>\n      <td>NaN</td>\n      <td>(direct)</td>\n      <td>6730972834407614673</td>\n    </tr>\n  </tbody>\n</table>\n</div>"
     },
     "execution_count": 71,
     "metadata": {},
     "output_type": "execute_result"
    }
   ],
   "source": [
    "df[df['visitId'] == 1500856602]"
   ],
   "metadata": {
    "collapsed": false
   }
  },
  {
   "cell_type": "code",
   "execution_count": 72,
   "outputs": [
    {
     "data": {
      "text/plain": "                 browser  visitorId  visitNumber     visitId  visitStartTime  \\\n48764             Safari        NaN            1  1498944532      1498944532   \n49384             Chrome        NaN            3  1498903575      1498903575   \n50808             Safari        NaN            1  1500292391      1500292391   \n50817              Opera        NaN            1  1500303705      1500303705   \n50818             Chrome        NaN            1  1500323816      1500323816   \n50822  Internet Explorer        NaN            1  1500298418      1500298418   \n50823             Safari        NaN            1  1500344056      1500344056   \n50833             Chrome        NaN            1  1500352836      1500352836   \n50834            Firefox        NaN            1  1500320745      1500320745   \n50843             Safari        NaN            1  1500330974      1500330974   \n50847             Safari        NaN            1  1500315477      1500315477   \n50848             Chrome        NaN            1  1500298889      1500298889   \n50849    Android Webview        NaN            8  1500352601      1500352601   \n50859             Chrome        NaN            2  1500311412      1500311412   \n50861            Maxthon        NaN            1  1500300280      1500300280   \n50862             Chrome        NaN            7  1500335812      1500335812   \n50866             Safari        NaN            1  1500343713      1500343713   \n50867             Safari        NaN            1  1500357971      1500357971   \n50873             Chrome        NaN            1  1500299360      1500299360   \n50888  Internet Explorer        NaN            1  1500306026      1500306026   \n50889             Chrome        NaN            1  1500338390      1500338390   \n50890             Safari        NaN            1  1500350453      1500350453   \n50907             Chrome        NaN            1  1500354559      1500354559   \n50912             Chrome        NaN            1  1500357471      1500357471   \n50914             Safari        NaN            1  1500310061      1500310061   \n50916             Chrome        NaN            2  1500305261      1500305261   \n50917             Safari        NaN            1  1500334002      1500334002   \n50922             Chrome        NaN            1  1500333749      1500333749   \n50923             Chrome        NaN            1  1500292803      1500292803   \n51234             Chrome        NaN            1  1500349302      1500349302   \n51448            Firefox        NaN            1  1500328140      1500328140   \n51687             Chrome        NaN            1  1500294607      1500294607   \n51723             Chrome        NaN            1  1500347580      1500347580   \n51827             Chrome        NaN            1  1500317793      1500317793   \n58501            Firefox        NaN            1  1501158348      1501158348   \n\n           date  visits  hits  pageviews  timeOnSite  bounces  transactions  \\\n48764  20170701       1     1        1.0         NaN      1.0           NaN   \n49384  20170701       1     7        7.0        65.0      NaN           NaN   \n50808  20170717       1     1        1.0         NaN      1.0           NaN   \n50817  20170717       1     1        1.0         NaN      1.0           NaN   \n50818  20170717       1     1        1.0         NaN      1.0           NaN   \n50822  20170717       1     1        1.0         NaN      1.0           NaN   \n50823  20170717       1     1        1.0         NaN      1.0           NaN   \n50833  20170717       1     1        1.0         NaN      1.0           NaN   \n50834  20170717       1     1        1.0         NaN      1.0           NaN   \n50843  20170717       1     1        1.0         NaN      1.0           NaN   \n50847  20170717       1     1        1.0         NaN      1.0           NaN   \n50848  20170717       1     1        1.0         NaN      1.0           NaN   \n50849  20170717       1     1        1.0         NaN      1.0           NaN   \n50859  20170717       1     1        1.0         NaN      1.0           NaN   \n50861  20170717       1     1        1.0         NaN      1.0           NaN   \n50862  20170717       1     1        1.0         NaN      1.0           NaN   \n50866  20170717       1     1        1.0         NaN      1.0           NaN   \n50867  20170717       1     1        1.0         NaN      1.0           NaN   \n50873  20170717       1     1        1.0         NaN      1.0           NaN   \n50888  20170717       1     1        1.0         NaN      1.0           NaN   \n50889  20170717       1     1        1.0         NaN      1.0           NaN   \n50890  20170717       1     1        1.0         NaN      1.0           NaN   \n50907  20170717       1     1        1.0         NaN      1.0           NaN   \n50912  20170717       1     1        1.0         NaN      1.0           NaN   \n50914  20170717       1     1        1.0         NaN      1.0           NaN   \n50916  20170717       1     1        1.0         NaN      1.0           NaN   \n50917  20170717       1     1        1.0         NaN      1.0           NaN   \n50922  20170717       1     1        1.0         NaN      1.0           NaN   \n50923  20170717       1     1        1.0         NaN      1.0           NaN   \n51234  20170717       1     2        2.0        15.0      NaN           NaN   \n51448  20170717       1     2        1.0         NaN      1.0           NaN   \n51687  20170717       1     3        3.0       126.0      NaN           NaN   \n51723  20170717       1     4        3.0        16.0      NaN           NaN   \n51827  20170717       1     5        5.0       151.0      NaN           NaN   \n58501  20170727       1     1        1.0         NaN      1.0           NaN   \n\n       transactionRevenue      source       fullVisitorId  \n48764                 NaN      google  489038402765684003  \n49384                 NaN      google  489038402765684003  \n50808                 NaN      google  489038402765684003  \n50817                 NaN      google  489038402765684003  \n50818                 NaN      google  489038402765684003  \n50822                 NaN    (direct)  489038402765684003  \n50823                 NaN      google  489038402765684003  \n50833                 NaN      google  489038402765684003  \n50834                 NaN      google  489038402765684003  \n50843                 NaN      google  489038402765684003  \n50847                 NaN      google  489038402765684003  \n50848                 NaN      google  489038402765684003  \n50849                 NaN      google  489038402765684003  \n50859                 NaN      google  489038402765684003  \n50861                 NaN      google  489038402765684003  \n50862                 NaN      google  489038402765684003  \n50866                 NaN      google  489038402765684003  \n50867                 NaN      google  489038402765684003  \n50873                 NaN      google  489038402765684003  \n50888                 NaN    (direct)  489038402765684003  \n50889                 NaN      google  489038402765684003  \n50890                 NaN      google  489038402765684003  \n50907                 NaN      google  489038402765684003  \n50912                 NaN      google  489038402765684003  \n50914                 NaN      google  489038402765684003  \n50916                 NaN      google  489038402765684003  \n50917                 NaN      google  489038402765684003  \n50922                 NaN      google  489038402765684003  \n50923                 NaN    (direct)  489038402765684003  \n51234                 NaN      google  489038402765684003  \n51448                 NaN      google  489038402765684003  \n51687                 NaN      google  489038402765684003  \n51723                 NaN  google.com  489038402765684003  \n51827                 NaN      google  489038402765684003  \n58501                 NaN      google  489038402765684003  ",
      "text/html": "<div>\n<style scoped>\n    .dataframe tbody tr th:only-of-type {\n        vertical-align: middle;\n    }\n\n    .dataframe tbody tr th {\n        vertical-align: top;\n    }\n\n    .dataframe thead th {\n        text-align: right;\n    }\n</style>\n<table border=\"1\" class=\"dataframe\">\n  <thead>\n    <tr style=\"text-align: right;\">\n      <th></th>\n      <th>browser</th>\n      <th>visitorId</th>\n      <th>visitNumber</th>\n      <th>visitId</th>\n      <th>visitStartTime</th>\n      <th>date</th>\n      <th>visits</th>\n      <th>hits</th>\n      <th>pageviews</th>\n      <th>timeOnSite</th>\n      <th>bounces</th>\n      <th>transactions</th>\n      <th>transactionRevenue</th>\n      <th>source</th>\n      <th>fullVisitorId</th>\n    </tr>\n  </thead>\n  <tbody>\n    <tr>\n      <th>48764</th>\n      <td>Safari</td>\n      <td>NaN</td>\n      <td>1</td>\n      <td>1498944532</td>\n      <td>1498944532</td>\n      <td>20170701</td>\n      <td>1</td>\n      <td>1</td>\n      <td>1.0</td>\n      <td>NaN</td>\n      <td>1.0</td>\n      <td>NaN</td>\n      <td>NaN</td>\n      <td>google</td>\n      <td>489038402765684003</td>\n    </tr>\n    <tr>\n      <th>49384</th>\n      <td>Chrome</td>\n      <td>NaN</td>\n      <td>3</td>\n      <td>1498903575</td>\n      <td>1498903575</td>\n      <td>20170701</td>\n      <td>1</td>\n      <td>7</td>\n      <td>7.0</td>\n      <td>65.0</td>\n      <td>NaN</td>\n      <td>NaN</td>\n      <td>NaN</td>\n      <td>google</td>\n      <td>489038402765684003</td>\n    </tr>\n    <tr>\n      <th>50808</th>\n      <td>Safari</td>\n      <td>NaN</td>\n      <td>1</td>\n      <td>1500292391</td>\n      <td>1500292391</td>\n      <td>20170717</td>\n      <td>1</td>\n      <td>1</td>\n      <td>1.0</td>\n      <td>NaN</td>\n      <td>1.0</td>\n      <td>NaN</td>\n      <td>NaN</td>\n      <td>google</td>\n      <td>489038402765684003</td>\n    </tr>\n    <tr>\n      <th>50817</th>\n      <td>Opera</td>\n      <td>NaN</td>\n      <td>1</td>\n      <td>1500303705</td>\n      <td>1500303705</td>\n      <td>20170717</td>\n      <td>1</td>\n      <td>1</td>\n      <td>1.0</td>\n      <td>NaN</td>\n      <td>1.0</td>\n      <td>NaN</td>\n      <td>NaN</td>\n      <td>google</td>\n      <td>489038402765684003</td>\n    </tr>\n    <tr>\n      <th>50818</th>\n      <td>Chrome</td>\n      <td>NaN</td>\n      <td>1</td>\n      <td>1500323816</td>\n      <td>1500323816</td>\n      <td>20170717</td>\n      <td>1</td>\n      <td>1</td>\n      <td>1.0</td>\n      <td>NaN</td>\n      <td>1.0</td>\n      <td>NaN</td>\n      <td>NaN</td>\n      <td>google</td>\n      <td>489038402765684003</td>\n    </tr>\n    <tr>\n      <th>50822</th>\n      <td>Internet Explorer</td>\n      <td>NaN</td>\n      <td>1</td>\n      <td>1500298418</td>\n      <td>1500298418</td>\n      <td>20170717</td>\n      <td>1</td>\n      <td>1</td>\n      <td>1.0</td>\n      <td>NaN</td>\n      <td>1.0</td>\n      <td>NaN</td>\n      <td>NaN</td>\n      <td>(direct)</td>\n      <td>489038402765684003</td>\n    </tr>\n    <tr>\n      <th>50823</th>\n      <td>Safari</td>\n      <td>NaN</td>\n      <td>1</td>\n      <td>1500344056</td>\n      <td>1500344056</td>\n      <td>20170717</td>\n      <td>1</td>\n      <td>1</td>\n      <td>1.0</td>\n      <td>NaN</td>\n      <td>1.0</td>\n      <td>NaN</td>\n      <td>NaN</td>\n      <td>google</td>\n      <td>489038402765684003</td>\n    </tr>\n    <tr>\n      <th>50833</th>\n      <td>Chrome</td>\n      <td>NaN</td>\n      <td>1</td>\n      <td>1500352836</td>\n      <td>1500352836</td>\n      <td>20170717</td>\n      <td>1</td>\n      <td>1</td>\n      <td>1.0</td>\n      <td>NaN</td>\n      <td>1.0</td>\n      <td>NaN</td>\n      <td>NaN</td>\n      <td>google</td>\n      <td>489038402765684003</td>\n    </tr>\n    <tr>\n      <th>50834</th>\n      <td>Firefox</td>\n      <td>NaN</td>\n      <td>1</td>\n      <td>1500320745</td>\n      <td>1500320745</td>\n      <td>20170717</td>\n      <td>1</td>\n      <td>1</td>\n      <td>1.0</td>\n      <td>NaN</td>\n      <td>1.0</td>\n      <td>NaN</td>\n      <td>NaN</td>\n      <td>google</td>\n      <td>489038402765684003</td>\n    </tr>\n    <tr>\n      <th>50843</th>\n      <td>Safari</td>\n      <td>NaN</td>\n      <td>1</td>\n      <td>1500330974</td>\n      <td>1500330974</td>\n      <td>20170717</td>\n      <td>1</td>\n      <td>1</td>\n      <td>1.0</td>\n      <td>NaN</td>\n      <td>1.0</td>\n      <td>NaN</td>\n      <td>NaN</td>\n      <td>google</td>\n      <td>489038402765684003</td>\n    </tr>\n    <tr>\n      <th>50847</th>\n      <td>Safari</td>\n      <td>NaN</td>\n      <td>1</td>\n      <td>1500315477</td>\n      <td>1500315477</td>\n      <td>20170717</td>\n      <td>1</td>\n      <td>1</td>\n      <td>1.0</td>\n      <td>NaN</td>\n      <td>1.0</td>\n      <td>NaN</td>\n      <td>NaN</td>\n      <td>google</td>\n      <td>489038402765684003</td>\n    </tr>\n    <tr>\n      <th>50848</th>\n      <td>Chrome</td>\n      <td>NaN</td>\n      <td>1</td>\n      <td>1500298889</td>\n      <td>1500298889</td>\n      <td>20170717</td>\n      <td>1</td>\n      <td>1</td>\n      <td>1.0</td>\n      <td>NaN</td>\n      <td>1.0</td>\n      <td>NaN</td>\n      <td>NaN</td>\n      <td>google</td>\n      <td>489038402765684003</td>\n    </tr>\n    <tr>\n      <th>50849</th>\n      <td>Android Webview</td>\n      <td>NaN</td>\n      <td>8</td>\n      <td>1500352601</td>\n      <td>1500352601</td>\n      <td>20170717</td>\n      <td>1</td>\n      <td>1</td>\n      <td>1.0</td>\n      <td>NaN</td>\n      <td>1.0</td>\n      <td>NaN</td>\n      <td>NaN</td>\n      <td>google</td>\n      <td>489038402765684003</td>\n    </tr>\n    <tr>\n      <th>50859</th>\n      <td>Chrome</td>\n      <td>NaN</td>\n      <td>2</td>\n      <td>1500311412</td>\n      <td>1500311412</td>\n      <td>20170717</td>\n      <td>1</td>\n      <td>1</td>\n      <td>1.0</td>\n      <td>NaN</td>\n      <td>1.0</td>\n      <td>NaN</td>\n      <td>NaN</td>\n      <td>google</td>\n      <td>489038402765684003</td>\n    </tr>\n    <tr>\n      <th>50861</th>\n      <td>Maxthon</td>\n      <td>NaN</td>\n      <td>1</td>\n      <td>1500300280</td>\n      <td>1500300280</td>\n      <td>20170717</td>\n      <td>1</td>\n      <td>1</td>\n      <td>1.0</td>\n      <td>NaN</td>\n      <td>1.0</td>\n      <td>NaN</td>\n      <td>NaN</td>\n      <td>google</td>\n      <td>489038402765684003</td>\n    </tr>\n    <tr>\n      <th>50862</th>\n      <td>Chrome</td>\n      <td>NaN</td>\n      <td>7</td>\n      <td>1500335812</td>\n      <td>1500335812</td>\n      <td>20170717</td>\n      <td>1</td>\n      <td>1</td>\n      <td>1.0</td>\n      <td>NaN</td>\n      <td>1.0</td>\n      <td>NaN</td>\n      <td>NaN</td>\n      <td>google</td>\n      <td>489038402765684003</td>\n    </tr>\n    <tr>\n      <th>50866</th>\n      <td>Safari</td>\n      <td>NaN</td>\n      <td>1</td>\n      <td>1500343713</td>\n      <td>1500343713</td>\n      <td>20170717</td>\n      <td>1</td>\n      <td>1</td>\n      <td>1.0</td>\n      <td>NaN</td>\n      <td>1.0</td>\n      <td>NaN</td>\n      <td>NaN</td>\n      <td>google</td>\n      <td>489038402765684003</td>\n    </tr>\n    <tr>\n      <th>50867</th>\n      <td>Safari</td>\n      <td>NaN</td>\n      <td>1</td>\n      <td>1500357971</td>\n      <td>1500357971</td>\n      <td>20170717</td>\n      <td>1</td>\n      <td>1</td>\n      <td>1.0</td>\n      <td>NaN</td>\n      <td>1.0</td>\n      <td>NaN</td>\n      <td>NaN</td>\n      <td>google</td>\n      <td>489038402765684003</td>\n    </tr>\n    <tr>\n      <th>50873</th>\n      <td>Chrome</td>\n      <td>NaN</td>\n      <td>1</td>\n      <td>1500299360</td>\n      <td>1500299360</td>\n      <td>20170717</td>\n      <td>1</td>\n      <td>1</td>\n      <td>1.0</td>\n      <td>NaN</td>\n      <td>1.0</td>\n      <td>NaN</td>\n      <td>NaN</td>\n      <td>google</td>\n      <td>489038402765684003</td>\n    </tr>\n    <tr>\n      <th>50888</th>\n      <td>Internet Explorer</td>\n      <td>NaN</td>\n      <td>1</td>\n      <td>1500306026</td>\n      <td>1500306026</td>\n      <td>20170717</td>\n      <td>1</td>\n      <td>1</td>\n      <td>1.0</td>\n      <td>NaN</td>\n      <td>1.0</td>\n      <td>NaN</td>\n      <td>NaN</td>\n      <td>(direct)</td>\n      <td>489038402765684003</td>\n    </tr>\n    <tr>\n      <th>50889</th>\n      <td>Chrome</td>\n      <td>NaN</td>\n      <td>1</td>\n      <td>1500338390</td>\n      <td>1500338390</td>\n      <td>20170717</td>\n      <td>1</td>\n      <td>1</td>\n      <td>1.0</td>\n      <td>NaN</td>\n      <td>1.0</td>\n      <td>NaN</td>\n      <td>NaN</td>\n      <td>google</td>\n      <td>489038402765684003</td>\n    </tr>\n    <tr>\n      <th>50890</th>\n      <td>Safari</td>\n      <td>NaN</td>\n      <td>1</td>\n      <td>1500350453</td>\n      <td>1500350453</td>\n      <td>20170717</td>\n      <td>1</td>\n      <td>1</td>\n      <td>1.0</td>\n      <td>NaN</td>\n      <td>1.0</td>\n      <td>NaN</td>\n      <td>NaN</td>\n      <td>google</td>\n      <td>489038402765684003</td>\n    </tr>\n    <tr>\n      <th>50907</th>\n      <td>Chrome</td>\n      <td>NaN</td>\n      <td>1</td>\n      <td>1500354559</td>\n      <td>1500354559</td>\n      <td>20170717</td>\n      <td>1</td>\n      <td>1</td>\n      <td>1.0</td>\n      <td>NaN</td>\n      <td>1.0</td>\n      <td>NaN</td>\n      <td>NaN</td>\n      <td>google</td>\n      <td>489038402765684003</td>\n    </tr>\n    <tr>\n      <th>50912</th>\n      <td>Chrome</td>\n      <td>NaN</td>\n      <td>1</td>\n      <td>1500357471</td>\n      <td>1500357471</td>\n      <td>20170717</td>\n      <td>1</td>\n      <td>1</td>\n      <td>1.0</td>\n      <td>NaN</td>\n      <td>1.0</td>\n      <td>NaN</td>\n      <td>NaN</td>\n      <td>google</td>\n      <td>489038402765684003</td>\n    </tr>\n    <tr>\n      <th>50914</th>\n      <td>Safari</td>\n      <td>NaN</td>\n      <td>1</td>\n      <td>1500310061</td>\n      <td>1500310061</td>\n      <td>20170717</td>\n      <td>1</td>\n      <td>1</td>\n      <td>1.0</td>\n      <td>NaN</td>\n      <td>1.0</td>\n      <td>NaN</td>\n      <td>NaN</td>\n      <td>google</td>\n      <td>489038402765684003</td>\n    </tr>\n    <tr>\n      <th>50916</th>\n      <td>Chrome</td>\n      <td>NaN</td>\n      <td>2</td>\n      <td>1500305261</td>\n      <td>1500305261</td>\n      <td>20170717</td>\n      <td>1</td>\n      <td>1</td>\n      <td>1.0</td>\n      <td>NaN</td>\n      <td>1.0</td>\n      <td>NaN</td>\n      <td>NaN</td>\n      <td>google</td>\n      <td>489038402765684003</td>\n    </tr>\n    <tr>\n      <th>50917</th>\n      <td>Safari</td>\n      <td>NaN</td>\n      <td>1</td>\n      <td>1500334002</td>\n      <td>1500334002</td>\n      <td>20170717</td>\n      <td>1</td>\n      <td>1</td>\n      <td>1.0</td>\n      <td>NaN</td>\n      <td>1.0</td>\n      <td>NaN</td>\n      <td>NaN</td>\n      <td>google</td>\n      <td>489038402765684003</td>\n    </tr>\n    <tr>\n      <th>50922</th>\n      <td>Chrome</td>\n      <td>NaN</td>\n      <td>1</td>\n      <td>1500333749</td>\n      <td>1500333749</td>\n      <td>20170717</td>\n      <td>1</td>\n      <td>1</td>\n      <td>1.0</td>\n      <td>NaN</td>\n      <td>1.0</td>\n      <td>NaN</td>\n      <td>NaN</td>\n      <td>google</td>\n      <td>489038402765684003</td>\n    </tr>\n    <tr>\n      <th>50923</th>\n      <td>Chrome</td>\n      <td>NaN</td>\n      <td>1</td>\n      <td>1500292803</td>\n      <td>1500292803</td>\n      <td>20170717</td>\n      <td>1</td>\n      <td>1</td>\n      <td>1.0</td>\n      <td>NaN</td>\n      <td>1.0</td>\n      <td>NaN</td>\n      <td>NaN</td>\n      <td>(direct)</td>\n      <td>489038402765684003</td>\n    </tr>\n    <tr>\n      <th>51234</th>\n      <td>Chrome</td>\n      <td>NaN</td>\n      <td>1</td>\n      <td>1500349302</td>\n      <td>1500349302</td>\n      <td>20170717</td>\n      <td>1</td>\n      <td>2</td>\n      <td>2.0</td>\n      <td>15.0</td>\n      <td>NaN</td>\n      <td>NaN</td>\n      <td>NaN</td>\n      <td>google</td>\n      <td>489038402765684003</td>\n    </tr>\n    <tr>\n      <th>51448</th>\n      <td>Firefox</td>\n      <td>NaN</td>\n      <td>1</td>\n      <td>1500328140</td>\n      <td>1500328140</td>\n      <td>20170717</td>\n      <td>1</td>\n      <td>2</td>\n      <td>1.0</td>\n      <td>NaN</td>\n      <td>1.0</td>\n      <td>NaN</td>\n      <td>NaN</td>\n      <td>google</td>\n      <td>489038402765684003</td>\n    </tr>\n    <tr>\n      <th>51687</th>\n      <td>Chrome</td>\n      <td>NaN</td>\n      <td>1</td>\n      <td>1500294607</td>\n      <td>1500294607</td>\n      <td>20170717</td>\n      <td>1</td>\n      <td>3</td>\n      <td>3.0</td>\n      <td>126.0</td>\n      <td>NaN</td>\n      <td>NaN</td>\n      <td>NaN</td>\n      <td>google</td>\n      <td>489038402765684003</td>\n    </tr>\n    <tr>\n      <th>51723</th>\n      <td>Chrome</td>\n      <td>NaN</td>\n      <td>1</td>\n      <td>1500347580</td>\n      <td>1500347580</td>\n      <td>20170717</td>\n      <td>1</td>\n      <td>4</td>\n      <td>3.0</td>\n      <td>16.0</td>\n      <td>NaN</td>\n      <td>NaN</td>\n      <td>NaN</td>\n      <td>google.com</td>\n      <td>489038402765684003</td>\n    </tr>\n    <tr>\n      <th>51827</th>\n      <td>Chrome</td>\n      <td>NaN</td>\n      <td>1</td>\n      <td>1500317793</td>\n      <td>1500317793</td>\n      <td>20170717</td>\n      <td>1</td>\n      <td>5</td>\n      <td>5.0</td>\n      <td>151.0</td>\n      <td>NaN</td>\n      <td>NaN</td>\n      <td>NaN</td>\n      <td>google</td>\n      <td>489038402765684003</td>\n    </tr>\n    <tr>\n      <th>58501</th>\n      <td>Firefox</td>\n      <td>NaN</td>\n      <td>1</td>\n      <td>1501158348</td>\n      <td>1501158348</td>\n      <td>20170727</td>\n      <td>1</td>\n      <td>1</td>\n      <td>1.0</td>\n      <td>NaN</td>\n      <td>1.0</td>\n      <td>NaN</td>\n      <td>NaN</td>\n      <td>google</td>\n      <td>489038402765684003</td>\n    </tr>\n  </tbody>\n</table>\n</div>"
     },
     "execution_count": 72,
     "metadata": {},
     "output_type": "execute_result"
    }
   ],
   "source": [
    "df[df['fullVisitorId'] == 489038402765684003]"
   ],
   "metadata": {
    "collapsed": false
   }
  },
  {
   "cell_type": "code",
   "execution_count": 73,
   "outputs": [],
   "source": [
    "# Every row in the table equals one session (or one visit)\n",
    "# fullVisitorId: The unique visitor ID (also known as client ID).\n",
    "# visitID số nhận dạng cho seesion\n",
    "# visitNumber số phiên của người dùng này mỗi phiên 30 mins"
   ],
   "metadata": {
    "collapsed": false
   }
  },
  {
   "cell_type": "code",
   "execution_count": 74,
   "outputs": [
    {
     "data": {
      "text/plain": "1"
     },
     "execution_count": 74,
     "metadata": {},
     "output_type": "execute_result"
    }
   ],
   "source": [
    "df.duplicated().sum()"
   ],
   "metadata": {
    "collapsed": false
   }
  },
  {
   "cell_type": "code",
   "execution_count": 75,
   "outputs": [
    {
     "data": {
      "text/plain": "       browser  visitorId  visitNumber     visitId  visitStartTime      date  \\\n38440  Firefox        NaN            1  1500856598      1500856598  20170723   \n38448  Firefox        NaN            1  1500856598      1500856598  20170723   \n38677  Firefox        NaN            1  1500856598      1500856598  20170723   \n\n       visits  hits  pageviews  timeOnSite  bounces  transactions  \\\n38440       1     1        1.0         NaN      1.0           NaN   \n38448       1     1        1.0         NaN      1.0           NaN   \n38677       1     1        1.0         NaN      1.0           NaN   \n\n       transactionRevenue    source        fullVisitorId  \n38440                 NaN  (direct)  3957538672448407297  \n38448                 NaN  (direct)  3957538672448407297  \n38677                 NaN  (direct)   482883831276829743  ",
      "text/html": "<div>\n<style scoped>\n    .dataframe tbody tr th:only-of-type {\n        vertical-align: middle;\n    }\n\n    .dataframe tbody tr th {\n        vertical-align: top;\n    }\n\n    .dataframe thead th {\n        text-align: right;\n    }\n</style>\n<table border=\"1\" class=\"dataframe\">\n  <thead>\n    <tr style=\"text-align: right;\">\n      <th></th>\n      <th>browser</th>\n      <th>visitorId</th>\n      <th>visitNumber</th>\n      <th>visitId</th>\n      <th>visitStartTime</th>\n      <th>date</th>\n      <th>visits</th>\n      <th>hits</th>\n      <th>pageviews</th>\n      <th>timeOnSite</th>\n      <th>bounces</th>\n      <th>transactions</th>\n      <th>transactionRevenue</th>\n      <th>source</th>\n      <th>fullVisitorId</th>\n    </tr>\n  </thead>\n  <tbody>\n    <tr>\n      <th>38440</th>\n      <td>Firefox</td>\n      <td>NaN</td>\n      <td>1</td>\n      <td>1500856598</td>\n      <td>1500856598</td>\n      <td>20170723</td>\n      <td>1</td>\n      <td>1</td>\n      <td>1.0</td>\n      <td>NaN</td>\n      <td>1.0</td>\n      <td>NaN</td>\n      <td>NaN</td>\n      <td>(direct)</td>\n      <td>3957538672448407297</td>\n    </tr>\n    <tr>\n      <th>38448</th>\n      <td>Firefox</td>\n      <td>NaN</td>\n      <td>1</td>\n      <td>1500856598</td>\n      <td>1500856598</td>\n      <td>20170723</td>\n      <td>1</td>\n      <td>1</td>\n      <td>1.0</td>\n      <td>NaN</td>\n      <td>1.0</td>\n      <td>NaN</td>\n      <td>NaN</td>\n      <td>(direct)</td>\n      <td>3957538672448407297</td>\n    </tr>\n    <tr>\n      <th>38677</th>\n      <td>Firefox</td>\n      <td>NaN</td>\n      <td>1</td>\n      <td>1500856598</td>\n      <td>1500856598</td>\n      <td>20170723</td>\n      <td>1</td>\n      <td>1</td>\n      <td>1.0</td>\n      <td>NaN</td>\n      <td>1.0</td>\n      <td>NaN</td>\n      <td>NaN</td>\n      <td>(direct)</td>\n      <td>482883831276829743</td>\n    </tr>\n  </tbody>\n</table>\n</div>"
     },
     "execution_count": 75,
     "metadata": {},
     "output_type": "execute_result"
    }
   ],
   "source": [
    "df[df['visitId'] == 1500856598]"
   ],
   "metadata": {
    "collapsed": false
   }
  },
  {
   "cell_type": "code",
   "execution_count": 76,
   "outputs": [],
   "source": [
    "df.drop_duplicates(inplace= True)"
   ],
   "metadata": {
    "collapsed": false
   }
  },
  {
   "cell_type": "code",
   "execution_count": 77,
   "outputs": [
    {
     "data": {
      "text/plain": "              Feature  Percentage\n0           visitorId  100.000000\n1        transactions   98.564287\n2  transactionRevenue   98.564287\n3          timeOnSite   50.865466\n4             bounces   49.301639\n5           pageviews    0.022281",
      "text/html": "<div>\n<style scoped>\n    .dataframe tbody tr th:only-of-type {\n        vertical-align: middle;\n    }\n\n    .dataframe tbody tr th {\n        vertical-align: top;\n    }\n\n    .dataframe thead th {\n        text-align: right;\n    }\n</style>\n<table border=\"1\" class=\"dataframe\">\n  <thead>\n    <tr style=\"text-align: right;\">\n      <th></th>\n      <th>Feature</th>\n      <th>Percentage</th>\n    </tr>\n  </thead>\n  <tbody>\n    <tr>\n      <th>0</th>\n      <td>visitorId</td>\n      <td>100.000000</td>\n    </tr>\n    <tr>\n      <th>1</th>\n      <td>transactions</td>\n      <td>98.564287</td>\n    </tr>\n    <tr>\n      <th>2</th>\n      <td>transactionRevenue</td>\n      <td>98.564287</td>\n    </tr>\n    <tr>\n      <th>3</th>\n      <td>timeOnSite</td>\n      <td>50.865466</td>\n    </tr>\n    <tr>\n      <th>4</th>\n      <td>bounces</td>\n      <td>49.301639</td>\n    </tr>\n    <tr>\n      <th>5</th>\n      <td>pageviews</td>\n      <td>0.022281</td>\n    </tr>\n  </tbody>\n</table>\n</div>"
     },
     "execution_count": 77,
     "metadata": {},
     "output_type": "execute_result"
    }
   ],
   "source": [
    "def check_missed_values(df):\n",
    "    df_null_percentage = df.isnull().sum() / df.shape[0] * 100\n",
    "    df_null_percentage = df_null_percentage.drop(df_null_percentage[df_null_percentage == 0].index).sort_values(ascending= False).reset_index()\n",
    "    df_null_percentage.columns = [\"Feature\", \"Percentage\"]\n",
    "    return df_null_percentage\n",
    "\n",
    "null_df = check_missed_values(df)\n",
    "null_df"
   ],
   "metadata": {
    "collapsed": false
   }
  },
  {
   "cell_type": "code",
   "execution_count": 78,
   "outputs": [
    {
     "data": {
      "text/plain": "<AxesSubplot:xlabel='Percentage', ylabel='Feature'>"
     },
     "execution_count": 78,
     "metadata": {},
     "output_type": "execute_result"
    },
    {
     "data": {
      "text/plain": "<Figure size 1152x360 with 1 Axes>",
      "image/png": "[encoded data removed]"
     },
     "metadata": {},
     "output_type": "display_data"
    }
   ],
   "source": [
    "plt.figure(figsize=(16,5))\n",
    "sns.barplot(x=  null_df[\"Percentage\"] , y= null_df[\"Feature\"] )"
   ],
   "metadata": {
    "collapsed": false
   }
  },
  {
   "cell_type": "code",
   "execution_count": 79,
   "outputs": [],
   "source": [
    "df.drop(labels=['visitorId'], axis=1, inplace= True)"
   ],
   "metadata": {
    "collapsed": false
   }
  },
  {
   "cell_type": "code",
   "execution_count": 80,
   "outputs": [],
   "source": [
    "df['transactions'].fillna(0, inplace= True)\n",
    "#df['transactionRevenue'].fillna(0, inplace= True)\n",
    "df['timeOnSite'].fillna(0, inplace= True)\n",
    "df['bounces'].fillna(0, inplace= True)\n",
    "#df['pageviews'].fillna(0, inplace= True)"
   ],
   "metadata": {
    "collapsed": false
   }
  },
  {
   "cell_type": "code",
   "execution_count": 81,
   "outputs": [
    {
     "data": {
      "text/plain": "              Feature  Percentage\n0  transactionRevenue   98.564287\n1           pageviews    0.022281",
      "text/html": "<div>\n<style scoped>\n    .dataframe tbody tr th:only-of-type {\n        vertical-align: middle;\n    }\n\n    .dataframe tbody tr th {\n        vertical-align: top;\n    }\n\n    .dataframe thead th {\n        text-align: right;\n    }\n</style>\n<table border=\"1\" class=\"dataframe\">\n  <thead>\n    <tr style=\"text-align: right;\">\n      <th></th>\n      <th>Feature</th>\n      <th>Percentage</th>\n    </tr>\n  </thead>\n  <tbody>\n    <tr>\n      <th>0</th>\n      <td>transactionRevenue</td>\n      <td>98.564287</td>\n    </tr>\n    <tr>\n      <th>1</th>\n      <td>pageviews</td>\n      <td>0.022281</td>\n    </tr>\n  </tbody>\n</table>\n</div>"
     },
     "execution_count": 81,
     "metadata": {},
     "output_type": "execute_result"
    }
   ],
   "source": [
    "check_missed_values(df)"
   ],
   "metadata": {
    "collapsed": false
   }
  },
  {
   "cell_type": "code",
   "execution_count": 82,
   "outputs": [
    {
     "data": {
      "text/plain": "Chrome                                         0.695827\nSafari                                         0.188871\nFirefox                                        0.038560\nInternet Explorer                              0.021264\nEdge                                           0.013842\nAndroid Webview                                0.012394\nOpera Mini                                     0.008912\nSafari (in-app)                                0.007951\nOpera                                          0.004498\nUC Browser                                     0.003495\nYaBrowser                                      0.000947\nCoc Coc                                        0.000724\nAmazon Silk                                    0.000654\nMozilla Compatible Agent                       0.000599\nAndroid Browser                                0.000571\nMaxthon                                        0.000195\nPuffin                                         0.000181\nBlackBerry                                     0.000139\n0                                              0.000097\nNintendo Browser                               0.000070\nMRCHROME                                       0.000070\nIron                                           0.000042\nosee2unifiedRelease                            0.000014\n[Use default User-agent string] LIVRENPOCHE    0.000014\n(not set)                                      0.000014\nMozilla                                        0.000014\nSeznam                                         0.000014\nAndroid Runtime                                0.000014\nSeaMonkey                                      0.000014\nName: browser, dtype: float64"
     },
     "execution_count": 82,
     "metadata": {},
     "output_type": "execute_result"
    }
   ],
   "source": [
    "df['browser'].value_counts(normalize= True)"
   ],
   "metadata": {
    "collapsed": false
   }
  },
  {
   "cell_type": "code",
   "execution_count": 83,
   "outputs": [
    {
     "data": {
      "text/plain": "google                  0.534737\n(direct)                0.276977\nyoutube.com             0.088440\nanalytics.google.com    0.027461\nPartners                0.024899\n                          ...   \nsearch.tb.ask.com       0.000014\naol                     0.000014\nit.pinterest.com        0.000014\nes.search.yahoo.com     0.000014\narstechnica.com         0.000014\nName: source, Length: 97, dtype: float64"
     },
     "execution_count": 83,
     "metadata": {},
     "output_type": "execute_result"
    }
   ],
   "source": [
    "df['source'].value_counts(normalize= True)"
   ],
   "metadata": {
    "collapsed": false
   }
  },
  {
   "cell_type": "code",
   "execution_count": 84,
   "outputs": [
    {
     "data": {
      "text/plain": "source\n(direct)                19890\nPartners                 1788\nadwords.google.com         16\namp.reddit.com              2\nanalytics.google.com     1972\n                        ...  \nwap.sogou.com               2\nweb.facebook.com            1\nweb.mail.comcast.net        1\nyahoo                     100\nyoutube.com              6351\nName: bounces, Length: 97, dtype: int64"
     },
     "execution_count": 84,
     "metadata": {},
     "output_type": "execute_result"
    }
   ],
   "source": [
    "df.groupby(['source'])['bounces'].count()"
   ],
   "metadata": {
    "collapsed": false
   }
  },
  {
   "cell_type": "code",
   "execution_count": 85,
   "outputs": [
    {
     "data": {
      "text/plain": "0.014628678452850536"
     },
     "execution_count": 85,
     "metadata": {},
     "output_type": "execute_result"
    }
   ],
   "source": [
    "# Conversion Rate: Total number of sessions in which visitors make at least one transaction / Total number of Sessions\n",
    "df[df['transactions'] != 0]['visitId'].nunique() / df['visitId'].nunique()"
   ],
   "metadata": {
    "collapsed": false
   }
  },
  {
   "cell_type": "code",
   "execution_count": 86,
   "outputs": [
    {
     "data": {
      "text/plain": "1.4357131915723218"
     },
     "execution_count": 86,
     "metadata": {},
     "output_type": "execute_result"
    }
   ],
   "source": [
    "df[df['transactions'] != 0].shape[0] / df['visitId'].shape[0] * 100"
   ],
   "metadata": {
    "collapsed": false
   }
  },
  {
   "cell_type": "code",
   "execution_count": 87,
   "outputs": [
    {
     "data": {
      "text/plain": "          visitId  number of visitor in the session  number of bouces\n0      1498892405                                 1               0.0\n1      1498892513                                 1               1.0\n2      1498892545                                 1               0.0\n3      1498892549                                 1               0.0\n4      1498892551                                 1               1.0\n...           ...                               ...               ...\n70473  1501570647                                 1               0.0\n70474  1501570671                                 1               1.0\n70475  1501570729                                 1               1.0\n70476  1501570763                                 1               1.0\n70477  1501570783                                 1               1.0\n\n[70478 rows x 3 columns]",
      "text/html": "<div>\n<style scoped>\n    .dataframe tbody tr th:only-of-type {\n        vertical-align: middle;\n    }\n\n    .dataframe tbody tr th {\n        vertical-align: top;\n    }\n\n    .dataframe thead th {\n        text-align: right;\n    }\n</style>\n<table border=\"1\" class=\"dataframe\">\n  <thead>\n    <tr style=\"text-align: right;\">\n      <th></th>\n      <th>visitId</th>\n      <th>number of visitor in the session</th>\n      <th>number of bouces</th>\n    </tr>\n  </thead>\n  <tbody>\n    <tr>\n      <th>0</th>\n      <td>1498892405</td>\n      <td>1</td>\n      <td>0.0</td>\n    </tr>\n    <tr>\n      <th>1</th>\n      <td>1498892513</td>\n      <td>1</td>\n      <td>1.0</td>\n    </tr>\n    <tr>\n      <th>2</th>\n      <td>1498892545</td>\n      <td>1</td>\n      <td>0.0</td>\n    </tr>\n    <tr>\n      <th>3</th>\n      <td>1498892549</td>\n      <td>1</td>\n      <td>0.0</td>\n    </tr>\n    <tr>\n      <th>4</th>\n      <td>1498892551</td>\n      <td>1</td>\n      <td>1.0</td>\n    </tr>\n    <tr>\n      <th>...</th>\n      <td>...</td>\n      <td>...</td>\n      <td>...</td>\n    </tr>\n    <tr>\n      <th>70473</th>\n      <td>1501570647</td>\n      <td>1</td>\n      <td>0.0</td>\n    </tr>\n    <tr>\n      <th>70474</th>\n      <td>1501570671</td>\n      <td>1</td>\n      <td>1.0</td>\n    </tr>\n    <tr>\n      <th>70475</th>\n      <td>1501570729</td>\n      <td>1</td>\n      <td>1.0</td>\n    </tr>\n    <tr>\n      <th>70476</th>\n      <td>1501570763</td>\n      <td>1</td>\n      <td>1.0</td>\n    </tr>\n    <tr>\n      <th>70477</th>\n      <td>1501570783</td>\n      <td>1</td>\n      <td>1.0</td>\n    </tr>\n  </tbody>\n</table>\n<p>70478 rows × 3 columns</p>\n</div>"
     },
     "execution_count": 87,
     "metadata": {},
     "output_type": "execute_result"
    }
   ],
   "source": [
    "session_bounce = df.groupby(['visitId']).agg({'visitId': 'count',\n",
    "                             'bounces': 'sum'})\n",
    "session_bounce.columns = ['number of visitor in the session','number of bouces']\n",
    "session_bounce.reset_index(inplace= True)\n",
    "session_bounce"
   ],
   "metadata": {
    "collapsed": false
   }
  },
  {
   "cell_type": "code",
   "execution_count": 88,
   "outputs": [
    {
     "data": {
      "text/plain": "     browser  visitNumber     visitId  visitStartTime      date  visits  hits  \\\n3581  Chrome            1  1501523910      1501523910  20170731       1     1   \n5173  Chrome            1  1501523910      1501523910  20170731       1     1   \n\n      pageviews  timeOnSite  bounces  transactions  transactionRevenue  \\\n3581        1.0         0.0      1.0           0.0                 NaN   \n5173        1.0         0.0      1.0           0.0                 NaN   \n\n           source        fullVisitorId  \n3581       google   655605807529233292  \n5173  youtube.com  5786368627384864497  ",
      "text/html": "<div>\n<style scoped>\n    .dataframe tbody tr th:only-of-type {\n        vertical-align: middle;\n    }\n\n    .dataframe tbody tr th {\n        vertical-align: top;\n    }\n\n    .dataframe thead th {\n        text-align: right;\n    }\n</style>\n<table border=\"1\" class=\"dataframe\">\n  <thead>\n    <tr style=\"text-align: right;\">\n      <th></th>\n      <th>browser</th>\n      <th>visitNumber</th>\n      <th>visitId</th>\n      <th>visitStartTime</th>\n      <th>date</th>\n      <th>visits</th>\n      <th>hits</th>\n      <th>pageviews</th>\n      <th>timeOnSite</th>\n      <th>bounces</th>\n      <th>transactions</th>\n      <th>transactionRevenue</th>\n      <th>source</th>\n      <th>fullVisitorId</th>\n    </tr>\n  </thead>\n  <tbody>\n    <tr>\n      <th>3581</th>\n      <td>Chrome</td>\n      <td>1</td>\n      <td>1501523910</td>\n      <td>1501523910</td>\n      <td>20170731</td>\n      <td>1</td>\n      <td>1</td>\n      <td>1.0</td>\n      <td>0.0</td>\n      <td>1.0</td>\n      <td>0.0</td>\n      <td>NaN</td>\n      <td>google</td>\n      <td>655605807529233292</td>\n    </tr>\n    <tr>\n      <th>5173</th>\n      <td>Chrome</td>\n      <td>1</td>\n      <td>1501523910</td>\n      <td>1501523910</td>\n      <td>20170731</td>\n      <td>1</td>\n      <td>1</td>\n      <td>1.0</td>\n      <td>0.0</td>\n      <td>1.0</td>\n      <td>0.0</td>\n      <td>NaN</td>\n      <td>youtube.com</td>\n      <td>5786368627384864497</td>\n    </tr>\n  </tbody>\n</table>\n</div>"
     },
     "execution_count": 88,
     "metadata": {},
     "output_type": "execute_result"
    }
   ],
   "source": [
    "df[df['visitId'] == 1501523910]"
   ],
   "metadata": {
    "collapsed": false
   }
  },
  {
   "cell_type": "code",
   "execution_count": 89,
   "outputs": [
    {
     "data": {
      "text/plain": "0.51089701750901"
     },
     "execution_count": 89,
     "metadata": {},
     "output_type": "execute_result"
    }
   ],
   "source": [
    "# Bounce rate:  Your site's Bounce Rate is the percentage of sessions that are bounces.\n",
    "session_bounce[session_bounce['number of bouces'] != 0].shape[0] / session_bounce.shape[0]"
   ],
   "metadata": {
    "collapsed": false
   }
  },
  {
   "cell_type": "code",
   "execution_count": 90,
   "outputs": [
    {
     "data": {
      "text/plain": "50.69836097533804"
     },
     "execution_count": 90,
     "metadata": {},
     "output_type": "execute_result"
    }
   ],
   "source": [
    "df[df['bounces'] != 0].shape[0] / df['visitId'].shape[0] * 100"
   ],
   "metadata": {
    "collapsed": false
   }
  },
  {
   "cell_type": "code",
   "execution_count": 91,
   "outputs": [
    {
     "data": {
      "text/plain": "         browser  visitNumber     visitId  visitStartTime      date  visits  \\\n1130      Chrome            1  1499974639      1499974639  20170713       1   \n1131      Safari            1  1499968925      1499968925  20170713       1   \n1132      Chrome            1  1499976303      1499976303  20170713       1   \n1133      Chrome            2  1499940366      1499940366  20170713       1   \n1134      Safari            1  1499992574      1499992574  20170713       1   \n...          ...          ...         ...             ...       ...     ...   \n71807  YaBrowser            1  1499360023      1499360023  20170706       1   \n71808     Safari            1  1499409243      1499409243  20170706       1   \n71809     Chrome            2  1499357935      1499357935  20170706       1   \n71810     Chrome            1  1499340827      1499340827  20170706       1   \n71811     Chrome            1  1499402632      1499402632  20170706       1   \n\n       hits  pageviews  timeOnSite  bounces  transactions  transactionRevenue  \\\n1130      2        2.0        34.0      0.0           0.0                 NaN   \n1131      2        2.0        24.0      0.0           0.0                 NaN   \n1132      2        2.0       118.0      0.0           0.0                 NaN   \n1133      2        2.0       642.0      0.0           0.0                 NaN   \n1134      2        2.0       109.0      0.0           0.0                 NaN   \n...     ...        ...         ...      ...           ...                 ...   \n71807    18       12.0       187.0      0.0           0.0                 NaN   \n71808    22       15.0       382.0      0.0           0.0                 NaN   \n71809    23       22.0       916.0      0.0           0.0                 NaN   \n71810    26       24.0      1598.0      0.0           0.0                 NaN   \n71811    33       29.0      1003.0      0.0           0.0                 NaN   \n\n              source        fullVisitorId  \n1130          google  7455855752197768008  \n1131          google  6966124029616866474  \n1132        (direct)  6519717373226385672  \n1133          google  0607751342903974935  \n1134          google  0423941431001576156  \n...              ...                  ...  \n71807    youtube.com  8636238363843235715  \n71808  m.youtube.com  2163624322857171652  \n71809    youtube.com  7690948523840471251  \n71810    youtube.com  3556380371648369739  \n71811    youtube.com  4510124417472283674  \n\n[35284 rows x 14 columns]",
      "text/html": "<div>\n<style scoped>\n    .dataframe tbody tr th:only-of-type {\n        vertical-align: middle;\n    }\n\n    .dataframe tbody tr th {\n        vertical-align: top;\n    }\n\n    .dataframe thead th {\n        text-align: right;\n    }\n</style>\n<table border=\"1\" class=\"dataframe\">\n  <thead>\n    <tr style=\"text-align: right;\">\n      <th></th>\n      <th>browser</th>\n      <th>visitNumber</th>\n      <th>visitId</th>\n      <th>visitStartTime</th>\n      <th>date</th>\n      <th>visits</th>\n      <th>hits</th>\n      <th>pageviews</th>\n      <th>timeOnSite</th>\n      <th>bounces</th>\n      <th>transactions</th>\n      <th>transactionRevenue</th>\n      <th>source</th>\n      <th>fullVisitorId</th>\n    </tr>\n  </thead>\n  <tbody>\n    <tr>\n      <th>1130</th>\n      <td>Chrome</td>\n      <td>1</td>\n      <td>1499974639</td>\n      <td>1499974639</td>\n      <td>20170713</td>\n      <td>1</td>\n      <td>2</td>\n      <td>2.0</td>\n      <td>34.0</td>\n      <td>0.0</td>\n      <td>0.0</td>\n      <td>NaN</td>\n      <td>google</td>\n      <td>7455855752197768008</td>\n    </tr>\n    <tr>\n      <th>1131</th>\n      <td>Safari</td>\n      <td>1</td>\n      <td>1499968925</td>\n      <td>1499968925</td>\n      <td>20170713</td>\n      <td>1</td>\n      <td>2</td>\n      <td>2.0</td>\n      <td>24.0</td>\n      <td>0.0</td>\n      <td>0.0</td>\n      <td>NaN</td>\n      <td>google</td>\n      <td>6966124029616866474</td>\n    </tr>\n    <tr>\n      <th>1132</th>\n      <td>Chrome</td>\n      <td>1</td>\n      <td>1499976303</td>\n      <td>1499976303</td>\n      <td>20170713</td>\n      <td>1</td>\n      <td>2</td>\n      <td>2.0</td>\n      <td>118.0</td>\n      <td>0.0</td>\n      <td>0.0</td>\n      <td>NaN</td>\n      <td>(direct)</td>\n      <td>6519717373226385672</td>\n    </tr>\n    <tr>\n      <th>1133</th>\n      <td>Chrome</td>\n      <td>2</td>\n      <td>1499940366</td>\n      <td>1499940366</td>\n      <td>20170713</td>\n      <td>1</td>\n      <td>2</td>\n      <td>2.0</td>\n      <td>642.0</td>\n      <td>0.0</td>\n      <td>0.0</td>\n      <td>NaN</td>\n      <td>google</td>\n      <td>0607751342903974935</td>\n    </tr>\n    <tr>\n      <th>1134</th>\n      <td>Safari</td>\n      <td>1</td>\n      <td>1499992574</td>\n      <td>1499992574</td>\n      <td>20170713</td>\n      <td>1</td>\n      <td>2</td>\n      <td>2.0</td>\n      <td>109.0</td>\n      <td>0.0</td>\n      <td>0.0</td>\n      <td>NaN</td>\n      <td>google</td>\n      <td>0423941431001576156</td>\n    </tr>\n    <tr>\n      <th>...</th>\n      <td>...</td>\n      <td>...</td>\n      <td>...</td>\n      <td>...</td>\n      <td>...</td>\n      <td>...</td>\n      <td>...</td>\n      <td>...</td>\n      <td>...</td>\n      <td>...</td>\n      <td>...</td>\n      <td>...</td>\n      <td>...</td>\n      <td>...</td>\n    </tr>\n    <tr>\n      <th>71807</th>\n      <td>YaBrowser</td>\n      <td>1</td>\n      <td>1499360023</td>\n      <td>1499360023</td>\n      <td>20170706</td>\n      <td>1</td>\n      <td>18</td>\n      <td>12.0</td>\n      <td>187.0</td>\n      <td>0.0</td>\n      <td>0.0</td>\n      <td>NaN</td>\n      <td>youtube.com</td>\n      <td>8636238363843235715</td>\n    </tr>\n    <tr>\n      <th>71808</th>\n      <td>Safari</td>\n      <td>1</td>\n      <td>1499409243</td>\n      <td>1499409243</td>\n      <td>20170706</td>\n      <td>1</td>\n      <td>22</td>\n      <td>15.0</td>\n      <td>382.0</td>\n      <td>0.0</td>\n      <td>0.0</td>\n      <td>NaN</td>\n      <td>m.youtube.com</td>\n      <td>2163624322857171652</td>\n    </tr>\n    <tr>\n      <th>71809</th>\n      <td>Chrome</td>\n      <td>2</td>\n      <td>1499357935</td>\n      <td>1499357935</td>\n      <td>20170706</td>\n      <td>1</td>\n      <td>23</td>\n      <td>22.0</td>\n      <td>916.0</td>\n      <td>0.0</td>\n      <td>0.0</td>\n      <td>NaN</td>\n      <td>youtube.com</td>\n      <td>7690948523840471251</td>\n    </tr>\n    <tr>\n      <th>71810</th>\n      <td>Chrome</td>\n      <td>1</td>\n      <td>1499340827</td>\n      <td>1499340827</td>\n      <td>20170706</td>\n      <td>1</td>\n      <td>26</td>\n      <td>24.0</td>\n      <td>1598.0</td>\n      <td>0.0</td>\n      <td>0.0</td>\n      <td>NaN</td>\n      <td>youtube.com</td>\n      <td>3556380371648369739</td>\n    </tr>\n    <tr>\n      <th>71811</th>\n      <td>Chrome</td>\n      <td>1</td>\n      <td>1499402632</td>\n      <td>1499402632</td>\n      <td>20170706</td>\n      <td>1</td>\n      <td>33</td>\n      <td>29.0</td>\n      <td>1003.0</td>\n      <td>0.0</td>\n      <td>0.0</td>\n      <td>NaN</td>\n      <td>youtube.com</td>\n      <td>4510124417472283674</td>\n    </tr>\n  </tbody>\n</table>\n<p>35284 rows × 14 columns</p>\n</div>"
     },
     "execution_count": 91,
     "metadata": {},
     "output_type": "execute_result"
    }
   ],
   "source": [
    "# Avg. session duration (seconds): The average time someone stayed on your site\n",
    "df[df['timeOnSite'] != 0]"
   ],
   "metadata": {
    "collapsed": false
   }
  },
  {
   "cell_type": "code",
   "execution_count": 92,
   "outputs": [
    {
     "data": {
      "text/plain": "296.7820258474096"
     },
     "execution_count": 92,
     "metadata": {},
     "output_type": "execute_result"
    }
   ],
   "source": [
    "df[df['timeOnSite'] != 0]['timeOnSite'].sum() / df[df['timeOnSite'] != 0]['visitId'].shape[0]"
   ],
   "metadata": {
    "collapsed": false
   }
  },
  {
   "cell_type": "code",
   "execution_count": 93,
   "outputs": [
    {
     "data": {
      "text/plain": "3.767570427928869"
     },
     "execution_count": 93,
     "metadata": {},
     "output_type": "execute_result"
    }
   ],
   "source": [
    "# Pages/session: The average number of pages viewed per session\n",
    "df['pageviews'].sum() / df['visitId'].shape[0]"
   ],
   "metadata": {
    "collapsed": false
   }
  },
  {
   "cell_type": "code",
   "execution_count": 94,
   "outputs": [
    {
     "data": {
      "text/plain": "0       2017-07-13\n1       2017-07-13\n2       2017-07-13\n3       2017-07-13\n4       2017-07-13\n           ...    \n71807   2017-07-06\n71808   2017-07-06\n71809   2017-07-06\n71810   2017-07-06\n71811   2017-07-06\nName: date, Length: 71811, dtype: datetime64[ns]"
     },
     "execution_count": 94,
     "metadata": {},
     "output_type": "execute_result"
    }
   ],
   "source": [
    "# Total sessions: the total number of sessions in month\n",
    "df['visitStartTime'] + df['timeOnSite']\n",
    "df['date'] = pd.to_datetime(df['date'].astype(str))\n",
    "df['date']"
   ],
   "metadata": {
    "collapsed": false
   }
  },
  {
   "cell_type": "code",
   "execution_count": 95,
   "outputs": [
    {
     "data": {
      "text/plain": "0        2017-07\n1        2017-07\n2        2017-07\n3        2017-07\n4        2017-07\n          ...   \n71807    2017-07\n71808    2017-07\n71809    2017-07\n71810    2017-07\n71811    2017-07\nName: Year-Month, Length: 71811, dtype: object"
     },
     "execution_count": 95,
     "metadata": {},
     "output_type": "execute_result"
    }
   ],
   "source": [
    "df['Year-Month'] = df['date'].dt.strftime('%Y-%m')\n",
    "df['Year-Month']"
   ],
   "metadata": {
    "collapsed": false
   }
  },
  {
   "cell_type": "code",
   "execution_count": 96,
   "outputs": [
    {
     "data": {
      "text/plain": "Year-Month\n2017-07    71811\nName: visitId, dtype: int64"
     },
     "execution_count": 96,
     "metadata": {},
     "output_type": "execute_result"
    }
   ],
   "source": [
    "df.groupby(['Year-Month'])['visitId'].count()"
   ],
   "metadata": {
    "collapsed": false
   }
  },
  {
   "cell_type": "code",
   "execution_count": 97,
   "outputs": [
    {
     "data": {
      "text/plain": "0.7641249751695565"
     },
     "execution_count": 97,
     "metadata": {},
     "output_type": "execute_result"
    }
   ],
   "source": [
    "# % new sessions: The estimated percentage of first-time sessions\n",
    "df[df['visitNumber'] == 1]['visitId'].nunique() / df['visitId'].nunique()"
   ],
   "metadata": {
    "collapsed": false
   }
  },
  {
   "cell_type": "code",
   "execution_count": 98,
   "outputs": [
    {
     "data": {
      "text/plain": "76.1443232930888"
     },
     "execution_count": 98,
     "metadata": {},
     "output_type": "execute_result"
    }
   ],
   "source": [
    "df[df['visitNumber'] == 1].shape[0] / df['visitId'].shape[0] * 100"
   ],
   "metadata": {
    "collapsed": false
   }
  },
  {
   "cell_type": "code",
   "execution_count": 99,
   "outputs": [
    {
     "data": {
      "text/plain": "Year-Month\n2017-07    61262\nName: fullVisitorId, dtype: int64"
     },
     "execution_count": 99,
     "metadata": {},
     "output_type": "execute_result"
    }
   ],
   "source": [
    "# Total visitors: total number of visitors in month\n",
    "df.groupby(['Year-Month'])['fullVisitorId'].nunique()"
   ],
   "metadata": {
    "collapsed": false
   }
  },
  {
   "cell_type": "code",
   "execution_count": 100,
   "outputs": [
    {
     "data": {
      "text/plain": "Year-Month\n2017-07    1072.0\nName: transactions, dtype: float64"
     },
     "execution_count": 100,
     "metadata": {},
     "output_type": "execute_result"
    }
   ],
   "source": [
    "# Total transactions:  total number of transactions in month\n",
    "df.groupby(['Year-Month'])['transactions'].sum()"
   ],
   "metadata": {
    "collapsed": false
   }
  },
  {
   "cell_type": "code",
   "execution_count": 101,
   "outputs": [
    {
     "data": {
      "text/plain": "Year-Month\n2017-07    1.244993e+11\nName: transactionRevenue, dtype: float64"
     },
     "execution_count": 101,
     "metadata": {},
     "output_type": "execute_result"
    }
   ],
   "source": [
    "# Total revenue: total transaction revenue in month\n",
    "df.groupby(['Year-Month'])['transactionRevenue'].sum()"
   ],
   "metadata": {
    "collapsed": false
   }
  },
  {
   "cell_type": "code",
   "execution_count": 102,
   "outputs": [
    {
     "data": {
      "text/plain": "8.120440672919457"
     },
     "execution_count": 102,
     "metadata": {},
     "output_type": "execute_result"
    }
   ],
   "source": [
    "# % New versus returning visitors\n",
    "visitor = pd.DataFrame(df.groupby(['fullVisitorId'])['visitId'].nunique())\n",
    "visitor.columns = ['number_of_visit']\n",
    "visitor.reset_index(inplace= True)\n",
    "visitor[visitor['number_of_visit'] == 1].shape[0] / visitor[visitor['number_of_visit'] != 1].shape[0]"
   ],
   "metadata": {
    "collapsed": false
   }
  },
  {
   "cell_type": "code",
   "execution_count": 103,
   "outputs": [
    {
     "data": {
      "text/plain": "1733707.6492459374"
     },
     "execution_count": 103,
     "metadata": {},
     "output_type": "execute_result"
    }
   ],
   "source": [
    "# Avg. Transaction Value\n",
    "df['transactionRevenue'].sum() / df.shape[0]"
   ],
   "metadata": {
    "collapsed": false
   }
  },
  {
   "cell_type": "code",
   "execution_count": 104,
   "outputs": [
    {
     "data": {
      "text/plain": "0       2017-07-13 12:32:24\n1       2017-07-13 12:26:02\n2       2017-07-13 10:09:38\n3       2017-07-14 02:41:36\n4       2017-07-13 18:19:18\n                ...        \n71807   2017-07-06 16:53:43\n71808   2017-07-07 06:34:03\n71809   2017-07-06 16:18:55\n71810   2017-07-06 11:33:47\n71811   2017-07-07 04:43:52\nName: visitStartTime, Length: 71811, dtype: datetime64[ns]"
     },
     "execution_count": 104,
     "metadata": {},
     "output_type": "execute_result"
    }
   ],
   "source": [
    "# Số lượng truy cập(rời bỏ) theo giờ trong ngày\n",
    "df['visitEndTime'] = df['visitStartTime'] + df['timeOnSite']\n",
    "\n",
    "df['visitStartTime'] = pd.to_datetime(df['visitStartTime'],unit='s')\n",
    "df['visitEndTime'] = pd.to_datetime(df['visitEndTime'],unit='s')"
   ],
   "metadata": {
    "collapsed": false
   }
  },
  {
   "cell_type": "code",
   "execution_count": 105,
   "outputs": [
    {
     "data": {
      "text/plain": "    visitStartTime_Hour  visitId\n0                     0     2826\n1                     1     2721\n2                     2     2659\n3                     3     2555\n4                     4     2640\n5                     5     2510\n6                     6     2545\n7                     7     2587\n8                     8     2494\n9                     9     2227\n10                   10     2246\n11                   11     2286\n12                   12     2572\n13                   13     3102\n14                   14     3423\n15                   15     3724\n16                   16     3845\n17                   17     3998\n18                   18     3794\n19                   19     3594\n20                   20     3819\n21                   21     3666\n22                   22     3092\n23                   23     2886",
      "text/html": "<div>\n<style scoped>\n    .dataframe tbody tr th:only-of-type {\n        vertical-align: middle;\n    }\n\n    .dataframe tbody tr th {\n        vertical-align: top;\n    }\n\n    .dataframe thead th {\n        text-align: right;\n    }\n</style>\n<table border=\"1\" class=\"dataframe\">\n  <thead>\n    <tr style=\"text-align: right;\">\n      <th></th>\n      <th>visitStartTime_Hour</th>\n      <th>visitId</th>\n    </tr>\n  </thead>\n  <tbody>\n    <tr>\n      <th>0</th>\n      <td>0</td>\n      <td>2826</td>\n    </tr>\n    <tr>\n      <th>1</th>\n      <td>1</td>\n      <td>2721</td>\n    </tr>\n    <tr>\n      <th>2</th>\n      <td>2</td>\n      <td>2659</td>\n    </tr>\n    <tr>\n      <th>3</th>\n      <td>3</td>\n      <td>2555</td>\n    </tr>\n    <tr>\n      <th>4</th>\n      <td>4</td>\n      <td>2640</td>\n    </tr>\n    <tr>\n      <th>5</th>\n      <td>5</td>\n      <td>2510</td>\n    </tr>\n    <tr>\n      <th>6</th>\n      <td>6</td>\n      <td>2545</td>\n    </tr>\n    <tr>\n      <th>7</th>\n      <td>7</td>\n      <td>2587</td>\n    </tr>\n    <tr>\n      <th>8</th>\n      <td>8</td>\n      <td>2494</td>\n    </tr>\n    <tr>\n      <th>9</th>\n      <td>9</td>\n      <td>2227</td>\n    </tr>\n    <tr>\n      <th>10</th>\n      <td>10</td>\n      <td>2246</td>\n    </tr>\n    <tr>\n      <th>11</th>\n      <td>11</td>\n      <td>2286</td>\n    </tr>\n    <tr>\n      <th>12</th>\n      <td>12</td>\n      <td>2572</td>\n    </tr>\n    <tr>\n      <th>13</th>\n      <td>13</td>\n      <td>3102</td>\n    </tr>\n    <tr>\n      <th>14</th>\n      <td>14</td>\n      <td>3423</td>\n    </tr>\n    <tr>\n      <th>15</th>\n      <td>15</td>\n      <td>3724</td>\n    </tr>\n    <tr>\n      <th>16</th>\n      <td>16</td>\n      <td>3845</td>\n    </tr>\n    <tr>\n      <th>17</th>\n      <td>17</td>\n      <td>3998</td>\n    </tr>\n    <tr>\n      <th>18</th>\n      <td>18</td>\n      <td>3794</td>\n    </tr>\n    <tr>\n      <th>19</th>\n      <td>19</td>\n      <td>3594</td>\n    </tr>\n    <tr>\n      <th>20</th>\n      <td>20</td>\n      <td>3819</td>\n    </tr>\n    <tr>\n      <th>21</th>\n      <td>21</td>\n      <td>3666</td>\n    </tr>\n    <tr>\n      <th>22</th>\n      <td>22</td>\n      <td>3092</td>\n    </tr>\n    <tr>\n      <th>23</th>\n      <td>23</td>\n      <td>2886</td>\n    </tr>\n  </tbody>\n</table>\n</div>"
     },
     "execution_count": 105,
     "metadata": {},
     "output_type": "execute_result"
    }
   ],
   "source": [
    "# số lượng truy cập theo giờ\n",
    "df['visitStartTime_Hour'] = df['visitStartTime'].dt.hour\n",
    "\n",
    "vistor_per_hour = df.groupby(['visitStartTime_Hour'])['visitId'].count().to_frame().reset_index()\n",
    "vistor_per_hour"
   ],
   "metadata": {
    "collapsed": false
   }
  },
  {
   "cell_type": "code",
   "execution_count": 117,
   "outputs": [
    {
     "data": {
      "text/plain": "    visitEndTime_Hour  visitId\n0                   0     2818\n1                   1     2743\n2                   2     2627\n3                   3     2584\n4                   4     2632\n5                   5     2524\n6                   6     2638\n7                   7     2500\n8                   8     2496\n9                   9     2245\n10                 10     2246\n11                 11     2291\n12                 12     2542\n13                 13     3091\n14                 14     3392\n15                 15     3708\n16                 16     3847\n17                 17     3974\n18                 18     3823\n19                 19     3583\n20                 20     3801\n21                 21     3671\n22                 22     3131\n23                 23     2904",
      "text/html": "<div>\n<style scoped>\n    .dataframe tbody tr th:only-of-type {\n        vertical-align: middle;\n    }\n\n    .dataframe tbody tr th {\n        vertical-align: top;\n    }\n\n    .dataframe thead th {\n        text-align: right;\n    }\n</style>\n<table border=\"1\" class=\"dataframe\">\n  <thead>\n    <tr style=\"text-align: right;\">\n      <th></th>\n      <th>visitEndTime_Hour</th>\n      <th>visitId</th>\n    </tr>\n  </thead>\n  <tbody>\n    <tr>\n      <th>0</th>\n      <td>0</td>\n      <td>2818</td>\n    </tr>\n    <tr>\n      <th>1</th>\n      <td>1</td>\n      <td>2743</td>\n    </tr>\n    <tr>\n      <th>2</th>\n      <td>2</td>\n      <td>2627</td>\n    </tr>\n    <tr>\n      <th>3</th>\n      <td>3</td>\n      <td>2584</td>\n    </tr>\n    <tr>\n      <th>4</th>\n      <td>4</td>\n      <td>2632</td>\n    </tr>\n    <tr>\n      <th>5</th>\n      <td>5</td>\n      <td>2524</td>\n    </tr>\n    <tr>\n      <th>6</th>\n      <td>6</td>\n      <td>2638</td>\n    </tr>\n    <tr>\n      <th>7</th>\n      <td>7</td>\n      <td>2500</td>\n    </tr>\n    <tr>\n      <th>8</th>\n      <td>8</td>\n      <td>2496</td>\n    </tr>\n    <tr>\n      <th>9</th>\n      <td>9</td>\n      <td>2245</td>\n    </tr>\n    <tr>\n      <th>10</th>\n      <td>10</td>\n      <td>2246</td>\n    </tr>\n    <tr>\n      <th>11</th>\n      <td>11</td>\n      <td>2291</td>\n    </tr>\n    <tr>\n      <th>12</th>\n      <td>12</td>\n      <td>2542</td>\n    </tr>\n    <tr>\n      <th>13</th>\n      <td>13</td>\n      <td>3091</td>\n    </tr>\n    <tr>\n      <th>14</th>\n      <td>14</td>\n      <td>3392</td>\n    </tr>\n    <tr>\n      <th>15</th>\n      <td>15</td>\n      <td>3708</td>\n    </tr>\n    <tr>\n      <th>16</th>\n      <td>16</td>\n      <td>3847</td>\n    </tr>\n    <tr>\n      <th>17</th>\n      <td>17</td>\n      <td>3974</td>\n    </tr>\n    <tr>\n      <th>18</th>\n      <td>18</td>\n      <td>3823</td>\n    </tr>\n    <tr>\n      <th>19</th>\n      <td>19</td>\n      <td>3583</td>\n    </tr>\n    <tr>\n      <th>20</th>\n      <td>20</td>\n      <td>3801</td>\n    </tr>\n    <tr>\n      <th>21</th>\n      <td>21</td>\n      <td>3671</td>\n    </tr>\n    <tr>\n      <th>22</th>\n      <td>22</td>\n      <td>3131</td>\n    </tr>\n    <tr>\n      <th>23</th>\n      <td>23</td>\n      <td>2904</td>\n    </tr>\n  </tbody>\n</table>\n</div>"
     },
     "execution_count": 117,
     "metadata": {},
     "output_type": "execute_result"
    }
   ],
   "source": [
    "# số lượng rời bỏ theo giờ\n",
    "df['visitEndTime_Hour'] = df['visitEndTime'].dt.hour\n",
    "vistor_per_hour = df.groupby(['visitEndTime_Hour'])['visitId'].count().to_frame().reset_index()\n",
    "vistor_per_hour"
   ],
   "metadata": {
    "collapsed": false
   }
  },
  {
   "cell_type": "code",
   "execution_count": 126,
   "outputs": [],
   "source": [
    "def section(x):\n",
    "    if x in [5, 6, 7, 8, 9, 10, 11]:\n",
    "        return 'Morning'\n",
    "    elif x in [12, 13, 14, 15, 16, 17]:\n",
    "        return 'Afternoon'\n",
    "    elif x in [18, 19, 20, 21]:\n",
    "        return 'Evening'\n",
    "    else:\n",
    "        return 'Night'"
   ],
   "metadata": {
    "collapsed": false
   }
  },
  {
   "cell_type": "code",
   "execution_count": 127,
   "outputs": [],
   "source": [
    "df['Start_Section'] = df['visitStartTime_Hour'].apply(section)\n",
    "df['End_Section'] = df['visitEndTime_Hour'].apply(section)"
   ],
   "metadata": {
    "collapsed": false
   }
  },
  {
   "cell_type": "code",
   "execution_count": 128,
   "outputs": [
    {
     "data": {
      "text/plain": "  Start_Section  visitId\n0     Afternoon    20664\n1       Evening    14873\n2       Morning    16895\n3         Night    19379",
      "text/html": "<div>\n<style scoped>\n    .dataframe tbody tr th:only-of-type {\n        vertical-align: middle;\n    }\n\n    .dataframe tbody tr th {\n        vertical-align: top;\n    }\n\n    .dataframe thead th {\n        text-align: right;\n    }\n</style>\n<table border=\"1\" class=\"dataframe\">\n  <thead>\n    <tr style=\"text-align: right;\">\n      <th></th>\n      <th>Start_Section</th>\n      <th>visitId</th>\n    </tr>\n  </thead>\n  <tbody>\n    <tr>\n      <th>0</th>\n      <td>Afternoon</td>\n      <td>20664</td>\n    </tr>\n    <tr>\n      <th>1</th>\n      <td>Evening</td>\n      <td>14873</td>\n    </tr>\n    <tr>\n      <th>2</th>\n      <td>Morning</td>\n      <td>16895</td>\n    </tr>\n    <tr>\n      <th>3</th>\n      <td>Night</td>\n      <td>19379</td>\n    </tr>\n  </tbody>\n</table>\n</div>"
     },
     "execution_count": 128,
     "metadata": {},
     "output_type": "execute_result"
    }
   ],
   "source": [
    "df.groupby(['Start_Section'])['visitId'].count().to_frame().reset_index()"
   ],
   "metadata": {
    "collapsed": false
   }
  },
  {
   "cell_type": "code",
   "execution_count": 129,
   "outputs": [
    {
     "data": {
      "text/plain": "  End_Section  visitId\n0   Afternoon    20554\n1     Evening    14878\n2     Morning    16940\n3       Night    19439",
      "text/html": "<div>\n<style scoped>\n    .dataframe tbody tr th:only-of-type {\n        vertical-align: middle;\n    }\n\n    .dataframe tbody tr th {\n        vertical-align: top;\n    }\n\n    .dataframe thead th {\n        text-align: right;\n    }\n</style>\n<table border=\"1\" class=\"dataframe\">\n  <thead>\n    <tr style=\"text-align: right;\">\n      <th></th>\n      <th>End_Section</th>\n      <th>visitId</th>\n    </tr>\n  </thead>\n  <tbody>\n    <tr>\n      <th>0</th>\n      <td>Afternoon</td>\n      <td>20554</td>\n    </tr>\n    <tr>\n      <th>1</th>\n      <td>Evening</td>\n      <td>14878</td>\n    </tr>\n    <tr>\n      <th>2</th>\n      <td>Morning</td>\n      <td>16940</td>\n    </tr>\n    <tr>\n      <th>3</th>\n      <td>Night</td>\n      <td>19439</td>\n    </tr>\n  </tbody>\n</table>\n</div>"
     },
     "execution_count": 129,
     "metadata": {},
     "output_type": "execute_result"
    }
   ],
   "source": [
    "df.groupby(['End_Section'])['visitId'].count().to_frame().reset_index()"
   ],
   "metadata": {
    "collapsed": false
   }
  },
  {
   "cell_type": "code",
   "execution_count": 106,
   "outputs": [
    {
     "data": {
      "text/plain": "         browser  visitNumber     visitId      visitStartTime       date  \\\n0         Safari            1  1499949144 2017-07-13 12:32:24 2017-07-13   \n1         Chrome            1  1499948762 2017-07-13 12:26:02 2017-07-13   \n2         Chrome            7  1499940578 2017-07-13 10:09:38 2017-07-13   \n3         Chrome            1  1500000096 2017-07-14 02:41:36 2017-07-13   \n4         Chrome            1  1499969958 2017-07-13 18:19:18 2017-07-13   \n...          ...          ...         ...                 ...        ...   \n71807  YaBrowser            1  1499360023 2017-07-06 16:53:43 2017-07-06   \n71808     Safari            1  1499409243 2017-07-07 06:34:03 2017-07-06   \n71809     Chrome            2  1499357935 2017-07-06 16:18:55 2017-07-06   \n71810     Chrome            1  1499340827 2017-07-06 11:33:47 2017-07-06   \n71811     Chrome            1  1499402632 2017-07-07 04:43:52 2017-07-06   \n\n       visits  hits  pageviews  timeOnSite  bounces  transactions  \\\n0           1     1        1.0         0.0      1.0           0.0   \n1           1     1        1.0         0.0      1.0           0.0   \n2           1     1        1.0         0.0      1.0           0.0   \n3           1     1        1.0         0.0      1.0           0.0   \n4           1     1        1.0         0.0      1.0           0.0   \n...       ...   ...        ...         ...      ...           ...   \n71807       1    18       12.0       187.0      0.0           0.0   \n71808       1    22       15.0       382.0      0.0           0.0   \n71809       1    23       22.0       916.0      0.0           0.0   \n71810       1    26       24.0      1598.0      0.0           0.0   \n71811       1    33       29.0      1003.0      0.0           0.0   \n\n       transactionRevenue         source        fullVisitorId Year-Month  \\\n0                     NaN         google  6790377449422493910    2017-07   \n1                     NaN         google  1431348163667504299    2017-07   \n2                     NaN         google  5628749752915535966    2017-07   \n3                     NaN       (direct)  7721996906492012430    2017-07   \n4                     NaN         google  2699850580029059099    2017-07   \n...                   ...            ...                  ...        ...   \n71807                 NaN    youtube.com  8636238363843235715    2017-07   \n71808                 NaN  m.youtube.com  2163624322857171652    2017-07   \n71809                 NaN    youtube.com  7690948523840471251    2017-07   \n71810                 NaN    youtube.com  3556380371648369739    2017-07   \n71811                 NaN    youtube.com  4510124417472283674    2017-07   \n\n             visitEndTime  visitStartTime_Hour visitStartTime_Day0fWeek  \n0     2017-07-13 12:32:24                   12                      Thu  \n1     2017-07-13 12:26:02                   12                      Thu  \n2     2017-07-13 10:09:38                   10                      Thu  \n3     2017-07-14 02:41:36                    2                      Fri  \n4     2017-07-13 18:19:18                   18                      Thu  \n...                   ...                  ...                      ...  \n71807 2017-07-06 16:56:50                   16                      Thu  \n71808 2017-07-07 06:40:25                    6                      Fri  \n71809 2017-07-06 16:34:11                   16                      Thu  \n71810 2017-07-06 12:00:25                   11                      Thu  \n71811 2017-07-07 05:00:35                    4                      Fri  \n\n[71811 rows x 18 columns]",
      "text/html": "<div>\n<style scoped>\n    .dataframe tbody tr th:only-of-type {\n        vertical-align: middle;\n    }\n\n    .dataframe tbody tr th {\n        vertical-align: top;\n    }\n\n    .dataframe thead th {\n        text-align: right;\n    }\n</style>\n<table border=\"1\" class=\"dataframe\">\n  <thead>\n    <tr style=\"text-align: right;\">\n      <th></th>\n      <th>browser</th>\n      <th>visitNumber</th>\n      <th>visitId</th>\n      <th>visitStartTime</th>\n      <th>date</th>\n      <th>visits</th>\n      <th>hits</th>\n      <th>pageviews</th>\n      <th>timeOnSite</th>\n      <th>bounces</th>\n      <th>transactions</th>\n      <th>transactionRevenue</th>\n      <th>source</th>\n      <th>fullVisitorId</th>\n      <th>Year-Month</th>\n      <th>visitEndTime</th>\n      <th>visitStartTime_Hour</th>\n      <th>visitStartTime_Day0fWeek</th>\n    </tr>\n  </thead>\n  <tbody>\n    <tr>\n      <th>0</th>\n      <td>Safari</td>\n      <td>1</td>\n      <td>1499949144</td>\n      <td>2017-07-13 12:32:24</td>\n      <td>2017-07-13</td>\n      <td>1</td>\n      <td>1</td>\n      <td>1.0</td>\n      <td>0.0</td>\n      <td>1.0</td>\n      <td>0.0</td>\n      <td>NaN</td>\n      <td>google</td>\n      <td>6790377449422493910</td>\n      <td>2017-07</td>\n      <td>2017-07-13 12:32:24</td>\n      <td>12</td>\n      <td>Thu</td>\n    </tr>\n    <tr>\n      <th>1</th>\n      <td>Chrome</td>\n      <td>1</td>\n      <td>1499948762</td>\n      <td>2017-07-13 12:26:02</td>\n      <td>2017-07-13</td>\n      <td>1</td>\n      <td>1</td>\n      <td>1.0</td>\n      <td>0.0</td>\n      <td>1.0</td>\n      <td>0.0</td>\n      <td>NaN</td>\n      <td>google</td>\n      <td>1431348163667504299</td>\n      <td>2017-07</td>\n      <td>2017-07-13 12:26:02</td>\n      <td>12</td>\n      <td>Thu</td>\n    </tr>\n    <tr>\n      <th>2</th>\n      <td>Chrome</td>\n      <td>7</td>\n      <td>1499940578</td>\n      <td>2017-07-13 10:09:38</td>\n      <td>2017-07-13</td>\n      <td>1</td>\n      <td>1</td>\n      <td>1.0</td>\n      <td>0.0</td>\n      <td>1.0</td>\n      <td>0.0</td>\n      <td>NaN</td>\n      <td>google</td>\n      <td>5628749752915535966</td>\n      <td>2017-07</td>\n      <td>2017-07-13 10:09:38</td>\n      <td>10</td>\n      <td>Thu</td>\n    </tr>\n    <tr>\n      <th>3</th>\n      <td>Chrome</td>\n      <td>1</td>\n      <td>1500000096</td>\n      <td>2017-07-14 02:41:36</td>\n      <td>2017-07-13</td>\n      <td>1</td>\n      <td>1</td>\n      <td>1.0</td>\n      <td>0.0</td>\n      <td>1.0</td>\n      <td>0.0</td>\n      <td>NaN</td>\n      <td>(direct)</td>\n      <td>7721996906492012430</td>\n      <td>2017-07</td>\n      <td>2017-07-14 02:41:36</td>\n      <td>2</td>\n      <td>Fri</td>\n    </tr>\n    <tr>\n      <th>4</th>\n      <td>Chrome</td>\n      <td>1</td>\n      <td>1499969958</td>\n      <td>2017-07-13 18:19:18</td>\n      <td>2017-07-13</td>\n      <td>1</td>\n      <td>1</td>\n      <td>1.0</td>\n      <td>0.0</td>\n      <td>1.0</td>\n      <td>0.0</td>\n      <td>NaN</td>\n      <td>google</td>\n      <td>2699850580029059099</td>\n      <td>2017-07</td>\n      <td>2017-07-13 18:19:18</td>\n      <td>18</td>\n      <td>Thu</td>\n    </tr>\n    <tr>\n      <th>...</th>\n      <td>...</td>\n      <td>...</td>\n      <td>...</td>\n      <td>...</td>\n      <td>...</td>\n      <td>...</td>\n      <td>...</td>\n      <td>...</td>\n      <td>...</td>\n      <td>...</td>\n      <td>...</td>\n      <td>...</td>\n      <td>...</td>\n      <td>...</td>\n      <td>...</td>\n      <td>...</td>\n      <td>...</td>\n      <td>...</td>\n    </tr>\n    <tr>\n      <th>71807</th>\n      <td>YaBrowser</td>\n      <td>1</td>\n      <td>1499360023</td>\n      <td>2017-07-06 16:53:43</td>\n      <td>2017-07-06</td>\n      <td>1</td>\n      <td>18</td>\n      <td>12.0</td>\n      <td>187.0</td>\n      <td>0.0</td>\n      <td>0.0</td>\n      <td>NaN</td>\n      <td>youtube.com</td>\n      <td>8636238363843235715</td>\n      <td>2017-07</td>\n      <td>2017-07-06 16:56:50</td>\n      <td>16</td>\n      <td>Thu</td>\n    </tr>\n    <tr>\n      <th>71808</th>\n      <td>Safari</td>\n      <td>1</td>\n      <td>1499409243</td>\n      <td>2017-07-07 06:34:03</td>\n      <td>2017-07-06</td>\n      <td>1</td>\n      <td>22</td>\n      <td>15.0</td>\n      <td>382.0</td>\n      <td>0.0</td>\n      <td>0.0</td>\n      <td>NaN</td>\n      <td>m.youtube.com</td>\n      <td>2163624322857171652</td>\n      <td>2017-07</td>\n      <td>2017-07-07 06:40:25</td>\n      <td>6</td>\n      <td>Fri</td>\n    </tr>\n    <tr>\n      <th>71809</th>\n      <td>Chrome</td>\n      <td>2</td>\n      <td>1499357935</td>\n      <td>2017-07-06 16:18:55</td>\n      <td>2017-07-06</td>\n      <td>1</td>\n      <td>23</td>\n      <td>22.0</td>\n      <td>916.0</td>\n      <td>0.0</td>\n      <td>0.0</td>\n      <td>NaN</td>\n      <td>youtube.com</td>\n      <td>7690948523840471251</td>\n      <td>2017-07</td>\n      <td>2017-07-06 16:34:11</td>\n      <td>16</td>\n      <td>Thu</td>\n    </tr>\n    <tr>\n      <th>71810</th>\n      <td>Chrome</td>\n      <td>1</td>\n      <td>1499340827</td>\n      <td>2017-07-06 11:33:47</td>\n      <td>2017-07-06</td>\n      <td>1</td>\n      <td>26</td>\n      <td>24.0</td>\n      <td>1598.0</td>\n      <td>0.0</td>\n      <td>0.0</td>\n      <td>NaN</td>\n      <td>youtube.com</td>\n      <td>3556380371648369739</td>\n      <td>2017-07</td>\n      <td>2017-07-06 12:00:25</td>\n      <td>11</td>\n      <td>Thu</td>\n    </tr>\n    <tr>\n      <th>71811</th>\n      <td>Chrome</td>\n      <td>1</td>\n      <td>1499402632</td>\n      <td>2017-07-07 04:43:52</td>\n      <td>2017-07-06</td>\n      <td>1</td>\n      <td>33</td>\n      <td>29.0</td>\n      <td>1003.0</td>\n      <td>0.0</td>\n      <td>0.0</td>\n      <td>NaN</td>\n      <td>youtube.com</td>\n      <td>4510124417472283674</td>\n      <td>2017-07</td>\n      <td>2017-07-07 05:00:35</td>\n      <td>4</td>\n      <td>Fri</td>\n    </tr>\n  </tbody>\n</table>\n<p>71811 rows × 18 columns</p>\n</div>"
     },
     "execution_count": 106,
     "metadata": {},
     "output_type": "execute_result"
    }
   ],
   "source": [
    "# Tổng số lượng truy cập theo các ngày trong tháng(nếu thể hiện được ngày đó là thứ mấy trong tuần thì sẽ nhìn rõ pattern là lượng truy cập có đạt đỉnh vào một ngày nhất định nào trong tuần không?)\n",
    "day_of_week = { 0:'Mon', 1:'Tue', 2:'Wed', 3:'Thu', 4:'Fri', 5:'Sat', 6:'Sun'}\n",
    "df['visitStartTime_Day0fWeek'] = df['visitStartTime'].dt.dayofweek.map(day_of_week)\n",
    "df"
   ],
   "metadata": {
    "collapsed": false
   }
  },
  {
   "cell_type": "code",
   "execution_count": 107,
   "outputs": [
    {
     "data": {
      "text/plain": "  index  visitStartTime_Day0fWeek\n0   Mon                     12209\n1   Wed                     10637\n2   Tue                     10601\n3   Thu                     10542\n4   Fri                     10173\n5   Sun                      8837\n6   Sat                      8812",
      "text/html": "<div>\n<style scoped>\n    .dataframe tbody tr th:only-of-type {\n        vertical-align: middle;\n    }\n\n    .dataframe tbody tr th {\n        vertical-align: top;\n    }\n\n    .dataframe thead th {\n        text-align: right;\n    }\n</style>\n<table border=\"1\" class=\"dataframe\">\n  <thead>\n    <tr style=\"text-align: right;\">\n      <th></th>\n      <th>index</th>\n      <th>visitStartTime_Day0fWeek</th>\n    </tr>\n  </thead>\n  <tbody>\n    <tr>\n      <th>0</th>\n      <td>Mon</td>\n      <td>12209</td>\n    </tr>\n    <tr>\n      <th>1</th>\n      <td>Wed</td>\n      <td>10637</td>\n    </tr>\n    <tr>\n      <th>2</th>\n      <td>Tue</td>\n      <td>10601</td>\n    </tr>\n    <tr>\n      <th>3</th>\n      <td>Thu</td>\n      <td>10542</td>\n    </tr>\n    <tr>\n      <th>4</th>\n      <td>Fri</td>\n      <td>10173</td>\n    </tr>\n    <tr>\n      <th>5</th>\n      <td>Sun</td>\n      <td>8837</td>\n    </tr>\n    <tr>\n      <th>6</th>\n      <td>Sat</td>\n      <td>8812</td>\n    </tr>\n  </tbody>\n</table>\n</div>"
     },
     "execution_count": 107,
     "metadata": {},
     "output_type": "execute_result"
    }
   ],
   "source": [
    "df['visitStartTime_Day0fWeek'].value_counts(normalize= False).reset_index()"
   ],
   "metadata": {
    "collapsed": false
   }
  },
  {
   "cell_type": "code",
   "execution_count": 108,
   "outputs": [
    {
     "data": {
      "text/plain": "0        13\n1        13\n2        13\n3        14\n4        13\n         ..\n71807     6\n71808     7\n71809     6\n71810     6\n71811     7\nName: visitStartTime_Day, Length: 71811, dtype: int64"
     },
     "execution_count": 108,
     "metadata": {},
     "output_type": "execute_result"
    }
   ],
   "source": [
    "# Biểu đồ biến động về tổng số transaction và tổng số revenue theo ngày(dual axis)\n",
    "df['visitStartTime_Day'] = df['visitStartTime'].dt.day\n",
    "df['visitStartTime_Day']"
   ],
   "metadata": {
    "collapsed": false
   }
  },
  {
   "cell_type": "code",
   "execution_count": 109,
   "outputs": [
    {
     "data": {
      "text/plain": "    visitStartTime_Day  transactions  transactionRevenue\n0                    1          15.0        2.088200e+09\n1                    2           7.0        6.082900e+08\n2                    3          11.0        9.515100e+08\n3                    4          11.0        5.934800e+08\n4                    5          34.0        7.694400e+09\n5                    6          35.0        3.786020e+09\n6                    7          39.0        4.736200e+09\n7                    8          18.0        5.713800e+08\n8                    9          17.0        5.630500e+08\n9                   10          46.0        4.486800e+09\n10                  11          34.0        4.824030e+09\n11                  12          53.0        2.880050e+09\n12                  13          69.0        6.828650e+09\n13                  14          47.0        4.539440e+09\n14                  15          17.0        8.003300e+08\n15                  16          26.0        8.942300e+08\n16                  17          44.0        4.262610e+09\n17                  18          55.0        1.770067e+10\n18                  19          58.0        6.094020e+09\n19                  20          40.0        4.166750e+09\n20                  21          47.0        4.139140e+09\n21                  22          21.0        2.331040e+09\n22                  23           9.0        2.630750e+09\n23                  24          42.0        4.173340e+09\n24                  25          38.0        5.479990e+09\n25                  26          41.0        4.395930e+09\n26                  27          50.0        4.540940e+09\n27                  28          51.0        4.637720e+09\n28                  29          18.0        1.060650e+09\n29                  30          22.0        1.987650e+09\n30                  31          57.0        1.005202e+10",
      "text/html": "<div>\n<style scoped>\n    .dataframe tbody tr th:only-of-type {\n        vertical-align: middle;\n    }\n\n    .dataframe tbody tr th {\n        vertical-align: top;\n    }\n\n    .dataframe thead th {\n        text-align: right;\n    }\n</style>\n<table border=\"1\" class=\"dataframe\">\n  <thead>\n    <tr style=\"text-align: right;\">\n      <th></th>\n      <th>visitStartTime_Day</th>\n      <th>transactions</th>\n      <th>transactionRevenue</th>\n    </tr>\n  </thead>\n  <tbody>\n    <tr>\n      <th>0</th>\n      <td>1</td>\n      <td>15.0</td>\n      <td>2.088200e+09</td>\n    </tr>\n    <tr>\n      <th>1</th>\n      <td>2</td>\n      <td>7.0</td>\n      <td>6.082900e+08</td>\n    </tr>\n    <tr>\n      <th>2</th>\n      <td>3</td>\n      <td>11.0</td>\n      <td>9.515100e+08</td>\n    </tr>\n    <tr>\n      <th>3</th>\n      <td>4</td>\n      <td>11.0</td>\n      <td>5.934800e+08</td>\n    </tr>\n    <tr>\n      <th>4</th>\n      <td>5</td>\n      <td>34.0</td>\n      <td>7.694400e+09</td>\n    </tr>\n    <tr>\n      <th>5</th>\n      <td>6</td>\n      <td>35.0</td>\n      <td>3.786020e+09</td>\n    </tr>\n    <tr>\n      <th>6</th>\n      <td>7</td>\n      <td>39.0</td>\n      <td>4.736200e+09</td>\n    </tr>\n    <tr>\n      <th>7</th>\n      <td>8</td>\n      <td>18.0</td>\n      <td>5.713800e+08</td>\n    </tr>\n    <tr>\n      <th>8</th>\n      <td>9</td>\n      <td>17.0</td>\n      <td>5.630500e+08</td>\n    </tr>\n    <tr>\n      <th>9</th>\n      <td>10</td>\n      <td>46.0</td>\n      <td>4.486800e+09</td>\n    </tr>\n    <tr>\n      <th>10</th>\n      <td>11</td>\n      <td>34.0</td>\n      <td>4.824030e+09</td>\n    </tr>\n    <tr>\n      <th>11</th>\n      <td>12</td>\n      <td>53.0</td>\n      <td>2.880050e+09</td>\n    </tr>\n    <tr>\n      <th>12</th>\n      <td>13</td>\n      <td>69.0</td>\n      <td>6.828650e+09</td>\n    </tr>\n    <tr>\n      <th>13</th>\n      <td>14</td>\n      <td>47.0</td>\n      <td>4.539440e+09</td>\n    </tr>\n    <tr>\n      <th>14</th>\n      <td>15</td>\n      <td>17.0</td>\n      <td>8.003300e+08</td>\n    </tr>\n    <tr>\n      <th>15</th>\n      <td>16</td>\n      <td>26.0</td>\n      <td>8.942300e+08</td>\n    </tr>\n    <tr>\n      <th>16</th>\n      <td>17</td>\n      <td>44.0</td>\n      <td>4.262610e+09</td>\n    </tr>\n    <tr>\n      <th>17</th>\n      <td>18</td>\n      <td>55.0</td>\n      <td>1.770067e+10</td>\n    </tr>\n    <tr>\n      <th>18</th>\n      <td>19</td>\n      <td>58.0</td>\n      <td>6.094020e+09</td>\n    </tr>\n    <tr>\n      <th>19</th>\n      <td>20</td>\n      <td>40.0</td>\n      <td>4.166750e+09</td>\n    </tr>\n    <tr>\n      <th>20</th>\n      <td>21</td>\n      <td>47.0</td>\n      <td>4.139140e+09</td>\n    </tr>\n    <tr>\n      <th>21</th>\n      <td>22</td>\n      <td>21.0</td>\n      <td>2.331040e+09</td>\n    </tr>\n    <tr>\n      <th>22</th>\n      <td>23</td>\n      <td>9.0</td>\n      <td>2.630750e+09</td>\n    </tr>\n    <tr>\n      <th>23</th>\n      <td>24</td>\n      <td>42.0</td>\n      <td>4.173340e+09</td>\n    </tr>\n    <tr>\n      <th>24</th>\n      <td>25</td>\n      <td>38.0</td>\n      <td>5.479990e+09</td>\n    </tr>\n    <tr>\n      <th>25</th>\n      <td>26</td>\n      <td>41.0</td>\n      <td>4.395930e+09</td>\n    </tr>\n    <tr>\n      <th>26</th>\n      <td>27</td>\n      <td>50.0</td>\n      <td>4.540940e+09</td>\n    </tr>\n    <tr>\n      <th>27</th>\n      <td>28</td>\n      <td>51.0</td>\n      <td>4.637720e+09</td>\n    </tr>\n    <tr>\n      <th>28</th>\n      <td>29</td>\n      <td>18.0</td>\n      <td>1.060650e+09</td>\n    </tr>\n    <tr>\n      <th>29</th>\n      <td>30</td>\n      <td>22.0</td>\n      <td>1.987650e+09</td>\n    </tr>\n    <tr>\n      <th>30</th>\n      <td>31</td>\n      <td>57.0</td>\n      <td>1.005202e+10</td>\n    </tr>\n  </tbody>\n</table>\n</div>"
     },
     "execution_count": 109,
     "metadata": {},
     "output_type": "execute_result"
    }
   ],
   "source": [
    "df.groupby(['visitStartTime_Day']).agg({'transactions':'sum',\n",
    "                                        'transactionRevenue': 'sum'}).reset_index()"
   ],
   "metadata": {
    "collapsed": false
   }
  },
  {
   "cell_type": "code",
   "execution_count": 130,
   "outputs": [],
   "source": [
    "def source_classify(source):\n",
    "    if re.findall('google', source):\n",
    "        return 'google'\n",
    "    elif re.findall('(direct)', source):\n",
    "        return '(direct)'\n",
    "    else:\n",
    "        return 'Partners and other agency'\n"
   ],
   "metadata": {
    "collapsed": false
   }
  },
  {
   "cell_type": "code",
   "execution_count": 131,
   "outputs": [
    {
     "data": {
      "text/plain": "google                       41333\n(direct)                     19890\nPartners and other agency    10588\nName: source_agency, dtype: int64"
     },
     "execution_count": 131,
     "metadata": {},
     "output_type": "execute_result"
    }
   ],
   "source": [
    "df['source_agency'] = df['source'].apply(source_classify)\n",
    "df['source_agency'].value_counts()"
   ],
   "metadata": {
    "collapsed": false
   }
  },
  {
   "cell_type": "code",
   "execution_count": 132,
   "outputs": [
    {
     "data": {
      "text/plain": "               source_agency  bounces      Rate\n1                   (direct)      1.0  0.432629\n2  Partners and other agency      1.0  0.613714\n4                     google      1.0  0.515424",
      "text/html": "<div>\n<style scoped>\n    .dataframe tbody tr th:only-of-type {\n        vertical-align: middle;\n    }\n\n    .dataframe tbody tr th {\n        vertical-align: top;\n    }\n\n    .dataframe thead th {\n        text-align: right;\n    }\n</style>\n<table border=\"1\" class=\"dataframe\">\n  <thead>\n    <tr style=\"text-align: right;\">\n      <th></th>\n      <th>source_agency</th>\n      <th>bounces</th>\n      <th>Rate</th>\n    </tr>\n  </thead>\n  <tbody>\n    <tr>\n      <th>1</th>\n      <td>(direct)</td>\n      <td>1.0</td>\n      <td>0.432629</td>\n    </tr>\n    <tr>\n      <th>2</th>\n      <td>Partners and other agency</td>\n      <td>1.0</td>\n      <td>0.613714</td>\n    </tr>\n    <tr>\n      <th>4</th>\n      <td>google</td>\n      <td>1.0</td>\n      <td>0.515424</td>\n    </tr>\n  </tbody>\n</table>\n</div>"
     },
     "execution_count": 132,
     "metadata": {},
     "output_type": "execute_result"
    }
   ],
   "source": [
    "source_agency_bounces_df = pd.DataFrame(df.groupby(['source_agency'])['bounces'].value_counts(normalize= True))\n",
    "source_agency_bounces_df.columns = ['Rate']\n",
    "source_agency_bounces_df.reset_index(inplace= True)\n",
    "source_agency_bounces_df[source_agency_bounces_df['bounces'] == 1]"
   ],
   "metadata": {
    "collapsed": false
   }
  },
  {
   "cell_type": "code",
   "execution_count": 133,
   "outputs": [
    {
     "data": {
      "text/plain": "               source_agency  bounces      Rate\n0                   (direct)      0.0  0.567371\n1                   (direct)      1.0  0.432629\n2  Partners and other agency      1.0  0.613714\n3  Partners and other agency      0.0  0.386286\n4                     google      1.0  0.515424\n5                     google      0.0  0.484576",
      "text/html": "<div>\n<style scoped>\n    .dataframe tbody tr th:only-of-type {\n        vertical-align: middle;\n    }\n\n    .dataframe tbody tr th {\n        vertical-align: top;\n    }\n\n    .dataframe thead th {\n        text-align: right;\n    }\n</style>\n<table border=\"1\" class=\"dataframe\">\n  <thead>\n    <tr style=\"text-align: right;\">\n      <th></th>\n      <th>source_agency</th>\n      <th>bounces</th>\n      <th>Rate</th>\n    </tr>\n  </thead>\n  <tbody>\n    <tr>\n      <th>0</th>\n      <td>(direct)</td>\n      <td>0.0</td>\n      <td>0.567371</td>\n    </tr>\n    <tr>\n      <th>1</th>\n      <td>(direct)</td>\n      <td>1.0</td>\n      <td>0.432629</td>\n    </tr>\n    <tr>\n      <th>2</th>\n      <td>Partners and other agency</td>\n      <td>1.0</td>\n      <td>0.613714</td>\n    </tr>\n    <tr>\n      <th>3</th>\n      <td>Partners and other agency</td>\n      <td>0.0</td>\n      <td>0.386286</td>\n    </tr>\n    <tr>\n      <th>4</th>\n      <td>google</td>\n      <td>1.0</td>\n      <td>0.515424</td>\n    </tr>\n    <tr>\n      <th>5</th>\n      <td>google</td>\n      <td>0.0</td>\n      <td>0.484576</td>\n    </tr>\n  </tbody>\n</table>\n</div>"
     },
     "execution_count": 133,
     "metadata": {},
     "output_type": "execute_result"
    }
   ],
   "source": [
    "source_agency_bounces_df"
   ],
   "metadata": {
    "collapsed": false
   }
  },
  {
   "cell_type": "code",
   "execution_count": 134,
   "outputs": [
    {
     "data": {
      "text/plain": "source_agency\n(direct)                     684.0\nPartners and other agency     17.0\ngoogle                       371.0\nName: transactions, dtype: float64"
     },
     "execution_count": 134,
     "metadata": {},
     "output_type": "execute_result"
    }
   ],
   "source": [
    "df.groupby(['source_agency'])['transactions'].sum()"
   ],
   "metadata": {
    "collapsed": false
   }
  },
  {
   "cell_type": "code",
   "execution_count": 136,
   "outputs": [],
   "source": [
    "df['conversion_flag'] = df['transactions'].apply(lambda x: 0 if x == 0 else 1)"
   ],
   "metadata": {
    "collapsed": false
   }
  },
  {
   "cell_type": "code",
   "execution_count": 137,
   "outputs": [
    {
     "data": {
      "text/plain": "               source_agency  conversion_flag  Percentage\n1                   (direct)                1    0.032831\n3  Partners and other agency                1    0.001511\n5                     google                1    0.008758",
      "text/html": "<div>\n<style scoped>\n    .dataframe tbody tr th:only-of-type {\n        vertical-align: middle;\n    }\n\n    .dataframe tbody tr th {\n        vertical-align: top;\n    }\n\n    .dataframe thead th {\n        text-align: right;\n    }\n</style>\n<table border=\"1\" class=\"dataframe\">\n  <thead>\n    <tr style=\"text-align: right;\">\n      <th></th>\n      <th>source_agency</th>\n      <th>conversion_flag</th>\n      <th>Percentage</th>\n    </tr>\n  </thead>\n  <tbody>\n    <tr>\n      <th>1</th>\n      <td>(direct)</td>\n      <td>1</td>\n      <td>0.032831</td>\n    </tr>\n    <tr>\n      <th>3</th>\n      <td>Partners and other agency</td>\n      <td>1</td>\n      <td>0.001511</td>\n    </tr>\n    <tr>\n      <th>5</th>\n      <td>google</td>\n      <td>1</td>\n      <td>0.008758</td>\n    </tr>\n  </tbody>\n</table>\n</div>"
     },
     "execution_count": 137,
     "metadata": {},
     "output_type": "execute_result"
    }
   ],
   "source": [
    "source_agency_conversion_rate_df = pd.DataFrame(df.groupby(['source_agency'])['conversion_flag'].value_counts(normalize= True))\n",
    "source_agency_conversion_rate_df.columns = ['Percentage']\n",
    "source_agency_conversion_rate_df.reset_index(inplace= True)\n",
    "source_agency_conversion_rate_df[source_agency_conversion_rate_df['conversion_flag'] == 1]"
   ],
   "metadata": {
    "collapsed": false
   }
  }
 ],
 "metadata": {
  "kernelspec": {
   "display_name": "Python 3",
   "language": "python",
   "name": "python3"
  },
  "language_info": {
   "codemirror_mode": {
    "name": "ipython",
    "version": 2
   },
   "file_extension": ".py",
   "mimetype": "text/x-python",
   "name": "python",
   "nbconvert_exporter": "python",
   "pygments_lexer": "ipython2",
   "version": "2.7.6"
  }
 },
 "nbformat": 4,
 "nbformat_minor": 0
}
